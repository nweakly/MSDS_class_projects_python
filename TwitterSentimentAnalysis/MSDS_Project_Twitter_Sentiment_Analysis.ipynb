{
 "cells": [
  {
   "cell_type": "markdown",
   "metadata": {},
   "source": [
    "# Twitter Sentiment Analysis Project\n",
    "\n",
    "## Part I - Tweets collection\n",
    "## Part II - Sentiment Analysis"
   ]
  },
  {
   "cell_type": "code",
   "execution_count": 1,
   "metadata": {},
   "outputs": [],
   "source": [
    "# python standard library\n",
    "import os"
   ]
  },
  {
   "cell_type": "code",
   "execution_count": 2,
   "metadata": {},
   "outputs": [],
   "source": [
    "# library to communicate with the Twitter API\n",
    "import tweepy"
   ]
  },
  {
   "cell_type": "code",
   "execution_count": 3,
   "metadata": {},
   "outputs": [
    {
     "name": "stderr",
     "output_type": "stream",
     "text": [
      "C:\\Users\\RodneyWeakly\\Anaconda3\\lib\\site-packages\\nltk\\twitter\\__init__.py:20: UserWarning: The twython library has not been installed. Some functionality from the twitter package will not be available.\n",
      "  warnings.warn(\"The twython library has not been installed. \"\n"
     ]
    }
   ],
   "source": [
    "import pandas as pd\n",
    "import string\n",
    "import re\n",
    "from nltk.corpus import stopwords\n",
    "import nltk.collocations as nc\n",
    "import spacy\n",
    "from nltk.sentiment.vader import SentimentIntensityAnalyzer as SIA"
   ]
  },
  {
   "cell_type": "code",
   "execution_count": 4,
   "metadata": {},
   "outputs": [],
   "source": [
    "# add additional stop words to the basic English list and save as a set\n",
    "en_stopwords = set(stopwords.words('english')+ ['RT', 'crash', 'accident', 'rt'])\n",
    "nlp = spacy.load('en_core_web_sm')"
   ]
  },
  {
   "cell_type": "markdown",
   "metadata": {},
   "source": [
    "### Accessing Environment Variables"
   ]
  },
  {
   "cell_type": "code",
   "execution_count": 5,
   "metadata": {},
   "outputs": [],
   "source": [
    "# Note: Twitter account access keys are saved as environment variables\n",
    "\n",
    "# accessing environment variable in the code\n",
    "consumer_key = os.environ.get('TWITTER_CONSUMER_KEY')\n",
    "consumer_secret = os.environ.get('TWITTER_CONSUMER_SECRET')\n",
    "access_token_key = os.environ.get('TWITTER_ACCESS_TOKEN_KEY')\n",
    "access_token_secret = os.environ.get('TWITTER_ACCESS_TOKEN_SECRET')"
   ]
  },
  {
   "cell_type": "code",
   "execution_count": 6,
   "metadata": {},
   "outputs": [
    {
     "name": "stdout",
     "output_type": "stream",
     "text": [
      "Found consumer_key: True\n",
      "Found consumer_secret: True\n",
      "Found access_token_key: True\n",
      "Found access_token_secret: True\n"
     ]
    }
   ],
   "source": [
    "# test if the keys are in the runtime enviroment\n",
    "print('Found consumer_key:', bool(consumer_key))\n",
    "print('Found consumer_secret:', bool(consumer_secret))\n",
    "print('Found access_token_key:', bool(access_token_key))\n",
    "print('Found access_token_secret:', bool(access_token_secret))"
   ]
  },
  {
   "cell_type": "code",
   "execution_count": 7,
   "metadata": {},
   "outputs": [],
   "source": [
    "# get Twitter authorization\n",
    "auth = tweepy.OAuthHandler(consumer_key, consumer_secret)\n",
    "auth.set_access_token(access_token_key, access_token_secret)\n",
    "\n",
    "api = tweepy.API(auth)"
   ]
  },
  {
   "cell_type": "code",
   "execution_count": 8,
   "metadata": {},
   "outputs": [
    {
     "name": "stdout",
     "output_type": "stream",
     "text": [
      "RT @ColoradoEagles: EAGLES WIN!\n",
      "\n",
      "And Martin gets his first win and first shutout as an Eagle!\n",
      "\n",
      "#EaglesCountry https://t.co/3HUZhQZqHp\n",
      "RT @HC_WJC: GAME OVER! @shanebowers15 scores the shootout winner, and 🇨🇦 tops @USPORTSca 3-2. Game stats: https://t.co/1x7rWZeKrk #WorldJun…\n",
      "12.12.18\n",
      "\n",
      "#GoAvsGo https://t.co/u7dUuoOjWE\n",
      "RT @NWSBoulder: Strong wind gusts will continue tonight as winds have already reached 52 mph at Limon. Tomorrow, the system will depart wit…\n",
      "#Contact7: Christmas comes early for domestic violence victim and her family: https://t.co/6AYU5BfLVj via @TomMustin https://t.co/8lVxUVV5Go\n",
      "RT @lvs2rdhrses: Well I did it again. I elfed T-Beauts, Colesy, and the Favs 😂 Enjoy! \n",
      "\n",
      "I hope you all have a wonderful holiday!! #LoveMyTe…\n",
      "\"@skignome: Colorado Love right there! @Colorado\" https://t.co/VrxWsfekfR\n",
      "RT @Broncos: He hosts fundraisers.\n",
      "He donates money.\n",
      "He helps give thousands of kids the gift of sight.\n",
      "\n",
      "But it's these small interactions…\n",
      "AJ Greer was on a four-game point streak before his call up.\n",
      "\n",
      "#EaglesCountry #GoAvsGo https://t.co/HUDx4bxU6S\n",
      "Contracts show Denver already paid hundreds of thousands related to Convention Center expansion:… https://t.co/r47l1QtGr7\n",
      "ALERT: Denver police are investigating a shooting at 11th Ave. and Osage. 11th Ave. is closed between Osage and Mar… https://t.co/I6kMNK82Q5\n",
      "Tonight was so much fun. Thanks to everyone for playing with us!\n",
      "\n",
      "#GoAvsGo https://t.co/aHJLqjQszU\n",
      "“You’re REAL hockey players!?”\n",
      "\n",
      "☺️☺️☺️ #GoAvsGo https://t.co/jwrsQiN2UK\n",
      "#ALERT DPD investigating a shooting at 11th Ave and Osage St. 1 party with GSW and at hospital. Investigation is ac… https://t.co/eMy0Pif1Us\n",
      "RT @AvsIceGirls: Street hockey fun tonight!\n",
      "\n",
      "#GoAvsGo https://t.co/00sn0LEdnP\n",
      "This hardly seems fair!\n",
      "\n",
      "#GoAvsGo https://t.co/Jdqgc1EbVR\n",
      "Totally wasn’t kidding... https://t.co/r78Mj1m7Ww\n",
      "AJ making Monkey In The Middle harder by suggesting they flip their sticks around...\n",
      "\n",
      "#GoAvsGo https://t.co/r0jOG38AVd\n",
      "RT @DoughertyKMGH: Do you want to help out a local blind coffee business owner that is having money difficulties due to high rent prices an…\n",
      "Sharks and Minnows, featuring Z the Shark.\n",
      "\n",
      "#GoAvsGo https://t.co/kPasbmQ7mC\n"
     ]
    }
   ],
   "source": [
    "# load tweets from my home timeline\n",
    "public_tweets = api.home_timeline()\n",
    "for tweet in public_tweets:\n",
    "    print(tweet.text)"
   ]
  },
  {
   "cell_type": "markdown",
   "metadata": {},
   "source": [
    "### Using tweepy to search for tweets in a particular area"
   ]
  },
  {
   "cell_type": "code",
   "execution_count": 9,
   "metadata": {},
   "outputs": [],
   "source": [
    "#Search for tweets about car accidents within 10 miles of Central Park and MLK in Denver \n",
    "results = api.search('accident OR crash OR collision', geocode='39.7602773,-104.8904864,10mi')"
   ]
  },
  {
   "cell_type": "code",
   "execution_count": 10,
   "metadata": {},
   "outputs": [
    {
     "data": {
      "text/plain": [
       "15"
      ]
     },
     "execution_count": 10,
     "metadata": {},
     "output_type": "execute_result"
    }
   ],
   "source": [
    "# How many tweets found?\n",
    "len(results)"
   ]
  },
  {
   "cell_type": "code",
   "execution_count": 11,
   "metadata": {},
   "outputs": [
    {
     "data": {
      "text/plain": [
       "'RT @T_Wes44: 5 years ago I was involved in a roll over car accident that left me paralyzed from the shoulders down. This is my progress tod…'"
      ]
     },
     "execution_count": 11,
     "metadata": {},
     "output_type": "execute_result"
    }
   ],
   "source": [
    "# Display text from the last tweet to check content\n",
    "results[14]._json['text']"
   ]
  },
  {
   "cell_type": "code",
   "execution_count": 12,
   "metadata": {},
   "outputs": [],
   "source": [
    "### Extracting the tweets"
   ]
  },
  {
   "cell_type": "code",
   "execution_count": 13,
   "metadata": {},
   "outputs": [],
   "source": [
    "def extract_text(tweets):\n",
    "    \"\"\"Returns a list of strings holding the text of the tweets\"\"\"\n",
    "    return [tweet._json['text'] for tweet in tweets]"
   ]
  },
  {
   "cell_type": "code",
   "execution_count": 14,
   "metadata": {},
   "outputs": [
    {
     "data": {
      "text/plain": [
       "['RT @CBSDenver: Millennials lacking life skills - like cooking, budgeting, or time management - are now signing up for classes designed to t…',\n",
       " 'RT @cnalive: “I personally attributed that to the intercession of Our Lady, and so did the other passengers, I think most of us...saw it as…',\n",
       " 'RT @cnalive: “I personally attributed that to the intercession of Our Lady, and so did the other passengers, I think most of us...saw it as…']"
      ]
     },
     "execution_count": 14,
     "metadata": {},
     "output_type": "execute_result"
    }
   ],
   "source": [
    "text_results = extract_text(results)\n",
    "text_results[:3]"
   ]
  },
  {
   "cell_type": "markdown",
   "metadata": {},
   "source": [
    "### Gathering the max number of tweets on the topic"
   ]
  },
  {
   "cell_type": "code",
   "execution_count": 15,
   "metadata": {},
   "outputs": [],
   "source": [
    "from tweepy import Cursor"
   ]
  },
  {
   "cell_type": "code",
   "execution_count": 16,
   "metadata": {},
   "outputs": [],
   "source": [
    "# searching for tweets and saving text only\n",
    "tweets = [tweet._json['text'] for tweet in Cursor(api.search,'accident OR crash OR collision', geocode='39.7602773,-104.8904864,10mi').items()]"
   ]
  },
  {
   "cell_type": "code",
   "execution_count": 17,
   "metadata": {},
   "outputs": [
    {
     "data": {
      "text/plain": [
       "1850"
      ]
     },
     "execution_count": 17,
     "metadata": {},
     "output_type": "execute_result"
    }
   ],
   "source": [
    "# How many tweets found?\n",
    "len(tweets)"
   ]
  },
  {
   "cell_type": "code",
   "execution_count": 18,
   "metadata": {},
   "outputs": [
    {
     "data": {
      "text/plain": [
       "['RT @CBSDenver: Millennials lacking life skills - like cooking, budgeting, or time management - are now signing up for classes designed to t…',\n",
       " 'RT @cnalive: “I personally attributed that to the intercession of Our Lady, and so did the other passengers, I think most of us...saw it as…',\n",
       " 'RT @cnalive: “I personally attributed that to the intercession of Our Lady, and so did the other passengers, I think most of us...saw it as…']"
      ]
     },
     "execution_count": 18,
     "metadata": {},
     "output_type": "execute_result"
    }
   ],
   "source": [
    "# look at the first 3 tweets\n",
    "tweets[:3]"
   ]
  },
  {
   "cell_type": "markdown",
   "metadata": {},
   "source": [
    "### Clean the tweets"
   ]
  },
  {
   "cell_type": "code",
   "execution_count": 19,
   "metadata": {},
   "outputs": [],
   "source": [
    "def preprocess_text(text_docs):\n",
    "    \"\"\"\n",
    "    text preprocessing using spacy:\n",
    "    lowercase, tokenize, remove whitespaces, remove stopwords, lemmatize;\n",
    "    returns list of cleaned, preprocessed strings\n",
    "    \"\"\"\n",
    "    # remove punctuation\n",
    "    table = str.maketrans({key: None for key in string.punctuation})\n",
    "    docs = [d.translate(table) for d in text_docs]\n",
    "    # replace new lines with spaces\n",
    "    docs = [re.sub('[\\r\\n]+', ' ', d) for d in docs]\n",
    "    # replace URLs with spaces\n",
    "    docs = [re.sub('https[\\w]*', ' ', d) for d in docs]\n",
    "    # replace digits with space\n",
    "    docs = [re.sub('\\d', ' ', d) for d in docs]\n",
    "    # replace multiple spaces with one space\n",
    "    docs = [re.sub('\\s\\s+', ' ', d) for d in docs]\n",
    "    # use spacy for lemmatization\n",
    "    spacy_docs = [nlp(d) for d in docs]\n",
    "    docs=[]\n",
    "    for d in spacy_docs: #for each document\n",
    "        temp_doc=[]\n",
    "        for w in d: #for each word in a document\n",
    "            #remove stopwords, pronouns, numbers and \"wods\" that are shorter than 2 and longer than 20 letters\n",
    "            if w.lemma_ in en_stopwords or w.lemma_.isdigit() or len(w.lemma_) > 20 or len(w.lemma_) < 2:\n",
    "                continue #skip the word and go back to the beginning of the loop\n",
    "            elif w.lemma_ != '-PRON-':\n",
    "                temp_doc.append(w.lower_) #append the lower case word\n",
    "                \n",
    "        docs.append(' '.join(temp_doc))\n",
    "\n",
    "    return docs\n",
    "       \n",
    "    "
   ]
  },
  {
   "cell_type": "code",
   "execution_count": 20,
   "metadata": {},
   "outputs": [
    {
     "data": {
      "text/plain": [
       "['cbsdenver millennials lacking life skills like cooking budgeting time management signing classes designed',\n",
       " 'cnalive personally attributed intercession lady passengers think ussaw',\n",
       " 'cnalive personally attributed intercession lady passengers think ussaw']"
      ]
     },
     "execution_count": 20,
     "metadata": {},
     "output_type": "execute_result"
    }
   ],
   "source": [
    "cleaned_tweets = preprocess_text(tweets) #call preprocess_text function to clean up the tweets\n",
    "cleaned_tweets[:3] #display first three tweets after clean-up"
   ]
  },
  {
   "cell_type": "markdown",
   "metadata": {},
   "source": [
    "### Write tweets to file"
   ]
  },
  {
   "cell_type": "code",
   "execution_count": 21,
   "metadata": {},
   "outputs": [],
   "source": [
    "# specify file name\n",
    "filename = 'tweets_denver_carcrashes_week8_2.txt'"
   ]
  },
  {
   "cell_type": "code",
   "execution_count": 22,
   "metadata": {},
   "outputs": [],
   "source": [
    "def write_out_tweets(filename, lines):\n",
    "    \"\"\"Writes tweets to a text file\"\"\"\n",
    "    with open(filename, 'w', encoding='utf-8') as out_file: #encoding='utf-8' - keep only regular text characters\n",
    "        for line in lines:\n",
    "            out_file.write(line + os.linesep)"
   ]
  },
  {
   "cell_type": "code",
   "execution_count": 23,
   "metadata": {},
   "outputs": [],
   "source": [
    "# call write_out_tweets function to save cleaned results to the file\n",
    "write_out_tweets(filename, cleaned_tweets)"
   ]
  },
  {
   "cell_type": "code",
   "execution_count": 24,
   "metadata": {},
   "outputs": [],
   "source": [
    "#wrtie unprocessed tweets to a file\n",
    "write_out_tweets(\"text_only_week8_2.txt\", text_results)"
   ]
  },
  {
   "cell_type": "code",
   "execution_count": 25,
   "metadata": {},
   "outputs": [
    {
     "data": {
      "text/plain": [
       "True"
      ]
     },
     "execution_count": 25,
     "metadata": {},
     "output_type": "execute_result"
    }
   ],
   "source": [
    "#Does the file exist?\n",
    "#using os library since running on Windows 10\n",
    "os.path.isfile(filename)"
   ]
  },
  {
   "cell_type": "code",
   "execution_count": 26,
   "metadata": {},
   "outputs": [
    {
     "data": {
      "text/plain": [
       "137921"
      ]
     },
     "execution_count": 26,
     "metadata": {},
     "output_type": "execute_result"
    }
   ],
   "source": [
    "#Check file size (to make sure it is not empty)\n",
    "os.stat(filename).st_size"
   ]
  },
  {
   "cell_type": "markdown",
   "metadata": {},
   "source": [
    "### Reading tweets using pandas"
   ]
  },
  {
   "cell_type": "code",
   "execution_count": 27,
   "metadata": {},
   "outputs": [],
   "source": [
    "def read_in_tweets(filename):\n",
    "    \"\"\"reads tweets from a file into a data frame\"\"\"\n",
    "    return pd.read_csv(filename, index_col=False, header=None, names=['tweet'])"
   ]
  },
  {
   "cell_type": "code",
   "execution_count": 28,
   "metadata": {},
   "outputs": [
    {
     "data": {
      "text/html": [
       "<div>\n",
       "<style scoped>\n",
       "    .dataframe tbody tr th:only-of-type {\n",
       "        vertical-align: middle;\n",
       "    }\n",
       "\n",
       "    .dataframe tbody tr th {\n",
       "        vertical-align: top;\n",
       "    }\n",
       "\n",
       "    .dataframe thead th {\n",
       "        text-align: right;\n",
       "    }\n",
       "</style>\n",
       "<table border=\"1\" class=\"dataframe\">\n",
       "  <thead>\n",
       "    <tr style=\"text-align: right;\">\n",
       "      <th></th>\n",
       "      <th>tweet</th>\n",
       "    </tr>\n",
       "  </thead>\n",
       "  <tbody>\n",
       "    <tr>\n",
       "      <th>0</th>\n",
       "      <td>cbsdenver millennials lacking life skills like...</td>\n",
       "    </tr>\n",
       "    <tr>\n",
       "      <th>1</th>\n",
       "      <td>cnalive personally attributed intercession lad...</td>\n",
       "    </tr>\n",
       "    <tr>\n",
       "      <th>2</th>\n",
       "      <td>cnalive personally attributed intercession lad...</td>\n",
       "    </tr>\n",
       "    <tr>\n",
       "      <th>3</th>\n",
       "      <td>cnalive personally attributed intercession lad...</td>\n",
       "    </tr>\n",
       "    <tr>\n",
       "      <th>4</th>\n",
       "      <td>trump panicking stocks job report disaster</td>\n",
       "    </tr>\n",
       "  </tbody>\n",
       "</table>\n",
       "</div>"
      ],
      "text/plain": [
       "                                               tweet\n",
       "0  cbsdenver millennials lacking life skills like...\n",
       "1  cnalive personally attributed intercession lad...\n",
       "2  cnalive personally attributed intercession lad...\n",
       "3  cnalive personally attributed intercession lad...\n",
       "4         trump panicking stocks job report disaster"
      ]
     },
     "execution_count": 28,
     "metadata": {},
     "output_type": "execute_result"
    }
   ],
   "source": [
    "cleaned_tweets_restored = read_in_tweets(filename) #call read_in_tweets function to read tweets into a df\n",
    "cleaned_tweets_restored.head() #display the first few tweets"
   ]
  },
  {
   "cell_type": "code",
   "execution_count": 29,
   "metadata": {},
   "outputs": [
    {
     "data": {
      "text/plain": [
       "(pandas.core.frame.DataFrame, (1849, 1))"
      ]
     },
     "execution_count": 29,
     "metadata": {},
     "output_type": "execute_result"
    }
   ],
   "source": [
    "type(cleaned_tweets_restored), cleaned_tweets_restored.shape #check the data type and its size "
   ]
  },
  {
   "cell_type": "markdown",
   "metadata": {},
   "source": [
    "## Sentiment Analysis"
   ]
  },
  {
   "cell_type": "code",
   "execution_count": 30,
   "metadata": {},
   "outputs": [],
   "source": [
    "# create the sentiment analysis object\n",
    "sia = SIA()"
   ]
  },
  {
   "cell_type": "code",
   "execution_count": 31,
   "metadata": {},
   "outputs": [],
   "source": [
    "# apply polarity_scores function to the tweets and save results in a new column\n",
    "cleaned_tweets_restored['polarity'] = cleaned_tweets_restored['tweet'].apply(sia.polarity_scores)"
   ]
  },
  {
   "cell_type": "code",
   "execution_count": 32,
   "metadata": {},
   "outputs": [
    {
     "data": {
      "text/html": [
       "<div>\n",
       "<style scoped>\n",
       "    .dataframe tbody tr th:only-of-type {\n",
       "        vertical-align: middle;\n",
       "    }\n",
       "\n",
       "    .dataframe tbody tr th {\n",
       "        vertical-align: top;\n",
       "    }\n",
       "\n",
       "    .dataframe thead th {\n",
       "        text-align: right;\n",
       "    }\n",
       "</style>\n",
       "<table border=\"1\" class=\"dataframe\">\n",
       "  <thead>\n",
       "    <tr style=\"text-align: right;\">\n",
       "      <th></th>\n",
       "      <th>tweet</th>\n",
       "      <th>polarity</th>\n",
       "    </tr>\n",
       "  </thead>\n",
       "  <tbody>\n",
       "    <tr>\n",
       "      <th>0</th>\n",
       "      <td>cbsdenver millennials lacking life skills like...</td>\n",
       "      <td>{'neg': 0.0, 'neu': 0.828, 'pos': 0.172, 'comp...</td>\n",
       "    </tr>\n",
       "    <tr>\n",
       "      <th>1</th>\n",
       "      <td>cnalive personally attributed intercession lad...</td>\n",
       "      <td>{'neg': 0.0, 'neu': 1.0, 'pos': 0.0, 'compound...</td>\n",
       "    </tr>\n",
       "    <tr>\n",
       "      <th>2</th>\n",
       "      <td>cnalive personally attributed intercession lad...</td>\n",
       "      <td>{'neg': 0.0, 'neu': 1.0, 'pos': 0.0, 'compound...</td>\n",
       "    </tr>\n",
       "    <tr>\n",
       "      <th>3</th>\n",
       "      <td>cnalive personally attributed intercession lad...</td>\n",
       "      <td>{'neg': 0.0, 'neu': 1.0, 'pos': 0.0, 'compound...</td>\n",
       "    </tr>\n",
       "    <tr>\n",
       "      <th>4</th>\n",
       "      <td>trump panicking stocks job report disaster</td>\n",
       "      <td>{'neg': 0.636, 'neu': 0.364, 'pos': 0.0, 'comp...</td>\n",
       "    </tr>\n",
       "  </tbody>\n",
       "</table>\n",
       "</div>"
      ],
      "text/plain": [
       "                                               tweet  \\\n",
       "0  cbsdenver millennials lacking life skills like...   \n",
       "1  cnalive personally attributed intercession lad...   \n",
       "2  cnalive personally attributed intercession lad...   \n",
       "3  cnalive personally attributed intercession lad...   \n",
       "4         trump panicking stocks job report disaster   \n",
       "\n",
       "                                            polarity  \n",
       "0  {'neg': 0.0, 'neu': 0.828, 'pos': 0.172, 'comp...  \n",
       "1  {'neg': 0.0, 'neu': 1.0, 'pos': 0.0, 'compound...  \n",
       "2  {'neg': 0.0, 'neu': 1.0, 'pos': 0.0, 'compound...  \n",
       "3  {'neg': 0.0, 'neu': 1.0, 'pos': 0.0, 'compound...  \n",
       "4  {'neg': 0.636, 'neu': 0.364, 'pos': 0.0, 'comp...  "
      ]
     },
     "execution_count": 32,
     "metadata": {},
     "output_type": "execute_result"
    }
   ],
   "source": [
    "cleaned_tweets_restored.head() #check results"
   ]
  },
  {
   "cell_type": "code",
   "execution_count": 33,
   "metadata": {},
   "outputs": [
    {
     "data": {
      "text/html": [
       "<div>\n",
       "<style scoped>\n",
       "    .dataframe tbody tr th:only-of-type {\n",
       "        vertical-align: middle;\n",
       "    }\n",
       "\n",
       "    .dataframe tbody tr th {\n",
       "        vertical-align: top;\n",
       "    }\n",
       "\n",
       "    .dataframe thead th {\n",
       "        text-align: right;\n",
       "    }\n",
       "</style>\n",
       "<table border=\"1\" class=\"dataframe\">\n",
       "  <thead>\n",
       "    <tr style=\"text-align: right;\">\n",
       "      <th></th>\n",
       "      <th>neg</th>\n",
       "      <th>neu</th>\n",
       "      <th>pos</th>\n",
       "      <th>compound</th>\n",
       "    </tr>\n",
       "  </thead>\n",
       "  <tbody>\n",
       "    <tr>\n",
       "      <th>0</th>\n",
       "      <td>0.000</td>\n",
       "      <td>0.828</td>\n",
       "      <td>0.172</td>\n",
       "      <td>0.3612</td>\n",
       "    </tr>\n",
       "    <tr>\n",
       "      <th>1</th>\n",
       "      <td>0.000</td>\n",
       "      <td>1.000</td>\n",
       "      <td>0.000</td>\n",
       "      <td>0.0000</td>\n",
       "    </tr>\n",
       "    <tr>\n",
       "      <th>2</th>\n",
       "      <td>0.000</td>\n",
       "      <td>1.000</td>\n",
       "      <td>0.000</td>\n",
       "      <td>0.0000</td>\n",
       "    </tr>\n",
       "    <tr>\n",
       "      <th>3</th>\n",
       "      <td>0.000</td>\n",
       "      <td>1.000</td>\n",
       "      <td>0.000</td>\n",
       "      <td>0.0000</td>\n",
       "    </tr>\n",
       "    <tr>\n",
       "      <th>4</th>\n",
       "      <td>0.636</td>\n",
       "      <td>0.364</td>\n",
       "      <td>0.000</td>\n",
       "      <td>-0.7906</td>\n",
       "    </tr>\n",
       "  </tbody>\n",
       "</table>\n",
       "</div>"
      ],
      "text/plain": [
       "     neg    neu    pos  compound\n",
       "0  0.000  0.828  0.172    0.3612\n",
       "1  0.000  1.000  0.000    0.0000\n",
       "2  0.000  1.000  0.000    0.0000\n",
       "3  0.000  1.000  0.000    0.0000\n",
       "4  0.636  0.364  0.000   -0.7906"
      ]
     },
     "execution_count": 33,
     "metadata": {},
     "output_type": "execute_result"
    }
   ],
   "source": [
    "# create 4 new columns using keys as column names\n",
    "#apply Series constructor to the 'polarity' columns to split values in the dictionary into separate columns\n",
    "polarity_df = cleaned_tweets_restored['polarity'].apply(pd.Series)\n",
    "polarity_df.head() #check results"
   ]
  },
  {
   "cell_type": "code",
   "execution_count": 34,
   "metadata": {},
   "outputs": [
    {
     "data": {
      "text/html": [
       "<div>\n",
       "<style scoped>\n",
       "    .dataframe tbody tr th:only-of-type {\n",
       "        vertical-align: middle;\n",
       "    }\n",
       "\n",
       "    .dataframe tbody tr th {\n",
       "        vertical-align: top;\n",
       "    }\n",
       "\n",
       "    .dataframe thead th {\n",
       "        text-align: right;\n",
       "    }\n",
       "</style>\n",
       "<table border=\"1\" class=\"dataframe\">\n",
       "  <thead>\n",
       "    <tr style=\"text-align: right;\">\n",
       "      <th></th>\n",
       "      <th>tweet</th>\n",
       "      <th>polarity</th>\n",
       "      <th>neg</th>\n",
       "      <th>neu</th>\n",
       "      <th>pos</th>\n",
       "      <th>compound</th>\n",
       "    </tr>\n",
       "  </thead>\n",
       "  <tbody>\n",
       "    <tr>\n",
       "      <th>0</th>\n",
       "      <td>cbsdenver millennials lacking life skills like...</td>\n",
       "      <td>{'neg': 0.0, 'neu': 0.828, 'pos': 0.172, 'comp...</td>\n",
       "      <td>0.000</td>\n",
       "      <td>0.828</td>\n",
       "      <td>0.172</td>\n",
       "      <td>0.3612</td>\n",
       "    </tr>\n",
       "    <tr>\n",
       "      <th>1</th>\n",
       "      <td>cnalive personally attributed intercession lad...</td>\n",
       "      <td>{'neg': 0.0, 'neu': 1.0, 'pos': 0.0, 'compound...</td>\n",
       "      <td>0.000</td>\n",
       "      <td>1.000</td>\n",
       "      <td>0.000</td>\n",
       "      <td>0.0000</td>\n",
       "    </tr>\n",
       "    <tr>\n",
       "      <th>2</th>\n",
       "      <td>cnalive personally attributed intercession lad...</td>\n",
       "      <td>{'neg': 0.0, 'neu': 1.0, 'pos': 0.0, 'compound...</td>\n",
       "      <td>0.000</td>\n",
       "      <td>1.000</td>\n",
       "      <td>0.000</td>\n",
       "      <td>0.0000</td>\n",
       "    </tr>\n",
       "    <tr>\n",
       "      <th>3</th>\n",
       "      <td>cnalive personally attributed intercession lad...</td>\n",
       "      <td>{'neg': 0.0, 'neu': 1.0, 'pos': 0.0, 'compound...</td>\n",
       "      <td>0.000</td>\n",
       "      <td>1.000</td>\n",
       "      <td>0.000</td>\n",
       "      <td>0.0000</td>\n",
       "    </tr>\n",
       "    <tr>\n",
       "      <th>4</th>\n",
       "      <td>trump panicking stocks job report disaster</td>\n",
       "      <td>{'neg': 0.636, 'neu': 0.364, 'pos': 0.0, 'comp...</td>\n",
       "      <td>0.636</td>\n",
       "      <td>0.364</td>\n",
       "      <td>0.000</td>\n",
       "      <td>-0.7906</td>\n",
       "    </tr>\n",
       "  </tbody>\n",
       "</table>\n",
       "</div>"
      ],
      "text/plain": [
       "                                               tweet  \\\n",
       "0  cbsdenver millennials lacking life skills like...   \n",
       "1  cnalive personally attributed intercession lad...   \n",
       "2  cnalive personally attributed intercession lad...   \n",
       "3  cnalive personally attributed intercession lad...   \n",
       "4         trump panicking stocks job report disaster   \n",
       "\n",
       "                                            polarity    neg    neu    pos  \\\n",
       "0  {'neg': 0.0, 'neu': 0.828, 'pos': 0.172, 'comp...  0.000  0.828  0.172   \n",
       "1  {'neg': 0.0, 'neu': 1.0, 'pos': 0.0, 'compound...  0.000  1.000  0.000   \n",
       "2  {'neg': 0.0, 'neu': 1.0, 'pos': 0.0, 'compound...  0.000  1.000  0.000   \n",
       "3  {'neg': 0.0, 'neu': 1.0, 'pos': 0.0, 'compound...  0.000  1.000  0.000   \n",
       "4  {'neg': 0.636, 'neu': 0.364, 'pos': 0.0, 'comp...  0.636  0.364  0.000   \n",
       "\n",
       "   compound  \n",
       "0    0.3612  \n",
       "1    0.0000  \n",
       "2    0.0000  \n",
       "3    0.0000  \n",
       "4   -0.7906  "
      ]
     },
     "execution_count": 34,
     "metadata": {},
     "output_type": "execute_result"
    }
   ],
   "source": [
    "#join the data frames into one\n",
    "cleaned_tweets_restored = cleaned_tweets_restored.join([polarity_df])\n",
    "cleaned_tweets_restored.head() #check results"
   ]
  },
  {
   "cell_type": "code",
   "execution_count": 35,
   "metadata": {},
   "outputs": [],
   "source": [
    "# drop the original 'polarity' column\n",
    "cleaned_tweets_restored = cleaned_tweets_restored.drop(['polarity'], axis = 1)"
   ]
  },
  {
   "cell_type": "code",
   "execution_count": 36,
   "metadata": {},
   "outputs": [
    {
     "data": {
      "text/html": [
       "<div>\n",
       "<style scoped>\n",
       "    .dataframe tbody tr th:only-of-type {\n",
       "        vertical-align: middle;\n",
       "    }\n",
       "\n",
       "    .dataframe tbody tr th {\n",
       "        vertical-align: top;\n",
       "    }\n",
       "\n",
       "    .dataframe thead th {\n",
       "        text-align: right;\n",
       "    }\n",
       "</style>\n",
       "<table border=\"1\" class=\"dataframe\">\n",
       "  <thead>\n",
       "    <tr style=\"text-align: right;\">\n",
       "      <th></th>\n",
       "      <th>tweet</th>\n",
       "      <th>neg</th>\n",
       "      <th>neu</th>\n",
       "      <th>pos</th>\n",
       "      <th>compound</th>\n",
       "    </tr>\n",
       "  </thead>\n",
       "  <tbody>\n",
       "    <tr>\n",
       "      <th>0</th>\n",
       "      <td>cbsdenver millennials lacking life skills like...</td>\n",
       "      <td>0.000</td>\n",
       "      <td>0.828</td>\n",
       "      <td>0.172</td>\n",
       "      <td>0.3612</td>\n",
       "    </tr>\n",
       "    <tr>\n",
       "      <th>1</th>\n",
       "      <td>cnalive personally attributed intercession lad...</td>\n",
       "      <td>0.000</td>\n",
       "      <td>1.000</td>\n",
       "      <td>0.000</td>\n",
       "      <td>0.0000</td>\n",
       "    </tr>\n",
       "    <tr>\n",
       "      <th>2</th>\n",
       "      <td>cnalive personally attributed intercession lad...</td>\n",
       "      <td>0.000</td>\n",
       "      <td>1.000</td>\n",
       "      <td>0.000</td>\n",
       "      <td>0.0000</td>\n",
       "    </tr>\n",
       "    <tr>\n",
       "      <th>3</th>\n",
       "      <td>cnalive personally attributed intercession lad...</td>\n",
       "      <td>0.000</td>\n",
       "      <td>1.000</td>\n",
       "      <td>0.000</td>\n",
       "      <td>0.0000</td>\n",
       "    </tr>\n",
       "    <tr>\n",
       "      <th>4</th>\n",
       "      <td>trump panicking stocks job report disaster</td>\n",
       "      <td>0.636</td>\n",
       "      <td>0.364</td>\n",
       "      <td>0.000</td>\n",
       "      <td>-0.7906</td>\n",
       "    </tr>\n",
       "  </tbody>\n",
       "</table>\n",
       "</div>"
      ],
      "text/plain": [
       "                                               tweet    neg    neu    pos  \\\n",
       "0  cbsdenver millennials lacking life skills like...  0.000  0.828  0.172   \n",
       "1  cnalive personally attributed intercession lad...  0.000  1.000  0.000   \n",
       "2  cnalive personally attributed intercession lad...  0.000  1.000  0.000   \n",
       "3  cnalive personally attributed intercession lad...  0.000  1.000  0.000   \n",
       "4         trump panicking stocks job report disaster  0.636  0.364  0.000   \n",
       "\n",
       "   compound  \n",
       "0    0.3612  \n",
       "1    0.0000  \n",
       "2    0.0000  \n",
       "3    0.0000  \n",
       "4   -0.7906  "
      ]
     },
     "execution_count": 36,
     "metadata": {},
     "output_type": "execute_result"
    }
   ],
   "source": [
    "cleaned_tweets_restored.head() #check results"
   ]
  },
  {
   "cell_type": "code",
   "execution_count": 37,
   "metadata": {},
   "outputs": [],
   "source": [
    "#create a plot\n",
    "import matplotlib.pyplot as plt"
   ]
  },
  {
   "cell_type": "code",
   "execution_count": 38,
   "metadata": {},
   "outputs": [
    {
     "data": {
      "text/plain": [
       "Text(0,0.5,'Count')"
      ]
     },
     "execution_count": 38,
     "metadata": {},
     "output_type": "execute_result"
    },
    {
     "data": {
      "image/png": "[encoded data removed]",
      "text/plain": [
       "<Figure size 432x288 with 1 Axes>"
      ]
     },
     "metadata": {
      "needs_background": "light"
     },
     "output_type": "display_data"
    }
   ],
   "source": [
    "# hisogram: number of tweets for each sentiment value\n",
    "plt.hist(cleaned_tweets_restored['compound'], bins = 30)\n",
    "plt.xlabel('Sentiment')\n",
    "plt.ylabel('Count')"
   ]
  },
  {
   "cell_type": "code",
   "execution_count": 39,
   "metadata": {},
   "outputs": [
    {
     "data": {
      "text/plain": [
       "(985, 5)"
      ]
     },
     "execution_count": 39,
     "metadata": {},
     "output_type": "execute_result"
    }
   ],
   "source": [
    "# remove all neutral tweets using a mask\n",
    "not_neutral = cleaned_tweets_restored[cleaned_tweets_restored['neu'] != 1.0]\n",
    "not_neutral.shape"
   ]
  },
  {
   "cell_type": "code",
   "execution_count": 40,
   "metadata": {},
   "outputs": [
    {
     "data": {
      "text/plain": [
       "Text(0,0.5,'Count')"
      ]
     },
     "execution_count": 40,
     "metadata": {},
     "output_type": "execute_result"
    },
    {
     "data": {
      "image/png": "[encoded data removed]",
      "text/plain": [
       "<Figure size 432x288 with 1 Axes>"
      ]
     },
     "metadata": {
      "needs_background": "light"
     },
     "output_type": "display_data"
    }
   ],
   "source": [
    "#create histogram without neutral sentiment\n",
    "plt.hist(not_neutral['compound'], bins = 30)\n",
    "plt.xlabel('Sentiment')\n",
    "plt.ylabel('Count')"
   ]
  },
  {
   "cell_type": "code",
   "execution_count": 41,
   "metadata": {},
   "outputs": [],
   "source": [
    "from nltk import FreqDist, word_tokenize\n",
    "from itertools import chain"
   ]
  },
  {
   "cell_type": "code",
   "execution_count": 42,
   "metadata": {},
   "outputs": [],
   "source": [
    "def flatten_word_list(series):\n",
    "    \"\"\"returns a list of words\"\"\"\n",
    "    return list(chain.from_iterable([word_tokenize(line) for line in series]))"
   ]
  },
  {
   "cell_type": "code",
   "execution_count": 43,
   "metadata": {},
   "outputs": [],
   "source": [
    "#tweets with positive sentiment\n",
    "positive = cleaned_tweets_restored[cleaned_tweets_restored['pos'] > 0.35]"
   ]
  },
  {
   "cell_type": "code",
   "execution_count": 44,
   "metadata": {},
   "outputs": [
    {
     "data": {
      "text/plain": [
       "121"
      ]
     },
     "execution_count": 44,
     "metadata": {},
     "output_type": "execute_result"
    }
   ],
   "source": [
    "#How many positive tweets found?\n",
    "len(positive)"
   ]
  },
  {
   "cell_type": "code",
   "execution_count": 45,
   "metadata": {},
   "outputs": [
    {
     "data": {
      "text/html": [
       "<div>\n",
       "<style scoped>\n",
       "    .dataframe tbody tr th:only-of-type {\n",
       "        vertical-align: middle;\n",
       "    }\n",
       "\n",
       "    .dataframe tbody tr th {\n",
       "        vertical-align: top;\n",
       "    }\n",
       "\n",
       "    .dataframe thead th {\n",
       "        text-align: right;\n",
       "    }\n",
       "</style>\n",
       "<table border=\"1\" class=\"dataframe\">\n",
       "  <thead>\n",
       "    <tr style=\"text-align: right;\">\n",
       "      <th></th>\n",
       "      <th>tweet</th>\n",
       "      <th>neg</th>\n",
       "      <th>neu</th>\n",
       "      <th>pos</th>\n",
       "      <th>compound</th>\n",
       "    </tr>\n",
       "  </thead>\n",
       "  <tbody>\n",
       "    <tr>\n",
       "      <th>47</th>\n",
       "      <td>stevezaragoza may ready going watch like car s...</td>\n",
       "      <td>0.000</td>\n",
       "      <td>0.583</td>\n",
       "      <td>0.417</td>\n",
       "      <td>0.6124</td>\n",
       "    </tr>\n",
       "    <tr>\n",
       "      <th>50</th>\n",
       "      <td>jeffcosheriffco clear creek canyon</td>\n",
       "      <td>0.000</td>\n",
       "      <td>0.536</td>\n",
       "      <td>0.464</td>\n",
       "      <td>0.3818</td>\n",
       "    </tr>\n",
       "    <tr>\n",
       "      <th>51</th>\n",
       "      <td>gustavqq unable let players reenter competitiv...</td>\n",
       "      <td>0.000</td>\n",
       "      <td>0.538</td>\n",
       "      <td>0.462</td>\n",
       "      <td>0.5106</td>\n",
       "    </tr>\n",
       "    <tr>\n",
       "      <th>52</th>\n",
       "      <td>coloradodot clear creek canyon</td>\n",
       "      <td>0.000</td>\n",
       "      <td>0.536</td>\n",
       "      <td>0.464</td>\n",
       "      <td>0.3818</td>\n",
       "    </tr>\n",
       "    <tr>\n",
       "      <th>79</th>\n",
       "      <td>drsearswellness crashdiets tempting due promis...</td>\n",
       "      <td>0.000</td>\n",
       "      <td>0.629</td>\n",
       "      <td>0.371</td>\n",
       "      <td>0.7579</td>\n",
       "    </tr>\n",
       "    <tr>\n",
       "      <th>83</th>\n",
       "      <td>crashdiets tempting due promise fast results r...</td>\n",
       "      <td>0.000</td>\n",
       "      <td>0.581</td>\n",
       "      <td>0.419</td>\n",
       "      <td>0.7579</td>\n",
       "    </tr>\n",
       "    <tr>\n",
       "      <th>129</th>\n",
       "      <td>invresdynamics roflmao daveramsey dave see las...</td>\n",
       "      <td>0.000</td>\n",
       "      <td>0.632</td>\n",
       "      <td>0.368</td>\n",
       "      <td>0.7506</td>\n",
       "    </tr>\n",
       "    <tr>\n",
       "      <th>175</th>\n",
       "      <td>sedrickavenue dropped phone lol tragic part 🏻‍...</td>\n",
       "      <td>0.167</td>\n",
       "      <td>0.444</td>\n",
       "      <td>0.389</td>\n",
       "      <td>0.6124</td>\n",
       "    </tr>\n",
       "    <tr>\n",
       "      <th>176</th>\n",
       "      <td>bigjbeats good</td>\n",
       "      <td>0.000</td>\n",
       "      <td>0.256</td>\n",
       "      <td>0.744</td>\n",
       "      <td>0.4404</td>\n",
       "    </tr>\n",
       "    <tr>\n",
       "      <th>204</th>\n",
       "      <td>invresdynamics roflmao daveramsey dave see las...</td>\n",
       "      <td>0.000</td>\n",
       "      <td>0.632</td>\n",
       "      <td>0.368</td>\n",
       "      <td>0.7506</td>\n",
       "    </tr>\n",
       "    <tr>\n",
       "      <th>205</th>\n",
       "      <td>free app great way put lawyer pocket</td>\n",
       "      <td>0.000</td>\n",
       "      <td>0.403</td>\n",
       "      <td>0.597</td>\n",
       "      <td>0.8126</td>\n",
       "    </tr>\n",
       "    <tr>\n",
       "      <th>219</th>\n",
       "      <td>found shane things love therewiredsoul stephil...</td>\n",
       "      <td>0.000</td>\n",
       "      <td>0.458</td>\n",
       "      <td>0.542</td>\n",
       "      <td>0.8519</td>\n",
       "    </tr>\n",
       "    <tr>\n",
       "      <th>223</th>\n",
       "      <td>happy subscriber happy analyst lots thanks val...</td>\n",
       "      <td>0.000</td>\n",
       "      <td>0.272</td>\n",
       "      <td>0.728</td>\n",
       "      <td>0.9246</td>\n",
       "    </tr>\n",
       "    <tr>\n",
       "      <th>224</th>\n",
       "      <td>roflmao daveramsey dave see last coming see on...</td>\n",
       "      <td>0.000</td>\n",
       "      <td>0.584</td>\n",
       "      <td>0.416</td>\n",
       "      <td>0.7506</td>\n",
       "    </tr>\n",
       "    <tr>\n",
       "      <th>230</th>\n",
       "      <td>first ever mountain ride truly amazing idea wo...</td>\n",
       "      <td>0.000</td>\n",
       "      <td>0.621</td>\n",
       "      <td>0.379</td>\n",
       "      <td>0.7717</td>\n",
       "    </tr>\n",
       "    <tr>\n",
       "      <th>232</th>\n",
       "      <td>deadbybhvr knew going issues patch update like...</td>\n",
       "      <td>0.000</td>\n",
       "      <td>0.643</td>\n",
       "      <td>0.357</td>\n",
       "      <td>0.6124</td>\n",
       "    </tr>\n",
       "    <tr>\n",
       "      <th>233</th>\n",
       "      <td>buddalized buddy tweet voted yes</td>\n",
       "      <td>0.000</td>\n",
       "      <td>0.597</td>\n",
       "      <td>0.403</td>\n",
       "      <td>0.4019</td>\n",
       "    </tr>\n",
       "    <tr>\n",
       "      <th>242</th>\n",
       "      <td>lets make fool amp party act like place</td>\n",
       "      <td>0.221</td>\n",
       "      <td>0.382</td>\n",
       "      <td>0.397</td>\n",
       "      <td>0.3182</td>\n",
       "    </tr>\n",
       "    <tr>\n",
       "      <th>256</th>\n",
       "      <td>ogdez hope got insurance bitchs</td>\n",
       "      <td>0.000</td>\n",
       "      <td>0.580</td>\n",
       "      <td>0.420</td>\n",
       "      <td>0.4404</td>\n",
       "    </tr>\n",
       "    <tr>\n",
       "      <th>258</th>\n",
       "      <td>survivetheark argys still prim plus lmao</td>\n",
       "      <td>0.000</td>\n",
       "      <td>0.562</td>\n",
       "      <td>0.438</td>\n",
       "      <td>0.5994</td>\n",
       "    </tr>\n",
       "  </tbody>\n",
       "</table>\n",
       "</div>"
      ],
      "text/plain": [
       "                                                 tweet    neg    neu    pos  \\\n",
       "47   stevezaragoza may ready going watch like car s...  0.000  0.583  0.417   \n",
       "50                  jeffcosheriffco clear creek canyon  0.000  0.536  0.464   \n",
       "51   gustavqq unable let players reenter competitiv...  0.000  0.538  0.462   \n",
       "52                      coloradodot clear creek canyon  0.000  0.536  0.464   \n",
       "79   drsearswellness crashdiets tempting due promis...  0.000  0.629  0.371   \n",
       "83   crashdiets tempting due promise fast results r...  0.000  0.581  0.419   \n",
       "129  invresdynamics roflmao daveramsey dave see las...  0.000  0.632  0.368   \n",
       "175  sedrickavenue dropped phone lol tragic part 🏻‍...  0.167  0.444  0.389   \n",
       "176                                     bigjbeats good  0.000  0.256  0.744   \n",
       "204  invresdynamics roflmao daveramsey dave see las...  0.000  0.632  0.368   \n",
       "205               free app great way put lawyer pocket  0.000  0.403  0.597   \n",
       "219  found shane things love therewiredsoul stephil...  0.000  0.458  0.542   \n",
       "223  happy subscriber happy analyst lots thanks val...  0.000  0.272  0.728   \n",
       "224  roflmao daveramsey dave see last coming see on...  0.000  0.584  0.416   \n",
       "230  first ever mountain ride truly amazing idea wo...  0.000  0.621  0.379   \n",
       "232  deadbybhvr knew going issues patch update like...  0.000  0.643  0.357   \n",
       "233                   buddalized buddy tweet voted yes  0.000  0.597  0.403   \n",
       "242            lets make fool amp party act like place  0.221  0.382  0.397   \n",
       "256                    ogdez hope got insurance bitchs  0.000  0.580  0.420   \n",
       "258           survivetheark argys still prim plus lmao  0.000  0.562  0.438   \n",
       "\n",
       "     compound  \n",
       "47     0.6124  \n",
       "50     0.3818  \n",
       "51     0.5106  \n",
       "52     0.3818  \n",
       "79     0.7579  \n",
       "83     0.7579  \n",
       "129    0.7506  \n",
       "175    0.6124  \n",
       "176    0.4404  \n",
       "204    0.7506  \n",
       "205    0.8126  \n",
       "219    0.8519  \n",
       "223    0.9246  \n",
       "224    0.7506  \n",
       "230    0.7717  \n",
       "232    0.6124  \n",
       "233    0.4019  \n",
       "242    0.3182  \n",
       "256    0.4404  \n",
       "258    0.5994  "
      ]
     },
     "execution_count": 45,
     "metadata": {},
     "output_type": "execute_result"
    }
   ],
   "source": [
    "#Look at the first 20 positive twets\n",
    "positive[:20]"
   ]
  },
  {
   "cell_type": "code",
   "execution_count": 46,
   "metadata": {},
   "outputs": [
    {
     "data": {
      "text/plain": [
       "(1013, ['stevezaragoza', 'may', 'ready', 'going', 'watch'])"
      ]
     },
     "execution_count": 46,
     "metadata": {},
     "output_type": "execute_result"
    }
   ],
   "source": [
    "#list of positive words\n",
    "positive_words = flatten_word_list(positive['tweet'])\n",
    "len(positive_words), positive_words[:5] #How many total positive words? Print first five as an example"
   ]
  },
  {
   "cell_type": "code",
   "execution_count": 47,
   "metadata": {},
   "outputs": [],
   "source": [
    "#create frequency distribution of positive words\n",
    "pos_fd = FreqDist(positive_words)"
   ]
  },
  {
   "cell_type": "code",
   "execution_count": 48,
   "metadata": {},
   "outputs": [
    {
     "data": {
      "text/plain": [
       "[('good', 32),\n",
       " ('last', 17),\n",
       " ('hope', 17),\n",
       " ('like', 13),\n",
       " ('clear', 12),\n",
       " ('please', 12),\n",
       " ('help', 12),\n",
       " ('family', 12),\n",
       " ('everyone', 11),\n",
       " ('weekend', 11)]"
      ]
     },
     "execution_count": 48,
     "metadata": {},
     "output_type": "execute_result"
    }
   ],
   "source": [
    "# ten most common words in positive tweets\n",
    "pos_fd.most_common(10)"
   ]
  },
  {
   "cell_type": "code",
   "execution_count": 49,
   "metadata": {},
   "outputs": [],
   "source": [
    "#tweets with negative sentiment\n",
    "negative = cleaned_tweets_restored[cleaned_tweets_restored['neg'] > 0.35]"
   ]
  },
  {
   "cell_type": "code",
   "execution_count": 50,
   "metadata": {},
   "outputs": [
    {
     "data": {
      "text/plain": [
       "263"
      ]
     },
     "execution_count": 50,
     "metadata": {},
     "output_type": "execute_result"
    }
   ],
   "source": [
    "#How many negative tweets found?\n",
    "len(negative)"
   ]
  },
  {
   "cell_type": "code",
   "execution_count": 51,
   "metadata": {},
   "outputs": [
    {
     "data": {
      "text/html": [
       "<div>\n",
       "<style scoped>\n",
       "    .dataframe tbody tr th:only-of-type {\n",
       "        vertical-align: middle;\n",
       "    }\n",
       "\n",
       "    .dataframe tbody tr th {\n",
       "        vertical-align: top;\n",
       "    }\n",
       "\n",
       "    .dataframe thead th {\n",
       "        text-align: right;\n",
       "    }\n",
       "</style>\n",
       "<table border=\"1\" class=\"dataframe\">\n",
       "  <thead>\n",
       "    <tr style=\"text-align: right;\">\n",
       "      <th></th>\n",
       "      <th>tweet</th>\n",
       "      <th>neg</th>\n",
       "      <th>neu</th>\n",
       "      <th>pos</th>\n",
       "      <th>compound</th>\n",
       "    </tr>\n",
       "  </thead>\n",
       "  <tbody>\n",
       "    <tr>\n",
       "      <th>4</th>\n",
       "      <td>trump panicking stocks job report disaster</td>\n",
       "      <td>0.636</td>\n",
       "      <td>0.364</td>\n",
       "      <td>0.000</td>\n",
       "      <td>-0.7906</td>\n",
       "    </tr>\n",
       "    <tr>\n",
       "      <th>5</th>\n",
       "      <td>even better scene kyle says fucking hates ugh ...</td>\n",
       "      <td>0.388</td>\n",
       "      <td>0.433</td>\n",
       "      <td>0.179</td>\n",
       "      <td>-0.5222</td>\n",
       "    </tr>\n",
       "    <tr>\n",
       "      <th>73</th>\n",
       "      <td>jkhansenaz homicide suicide staged crime scene...</td>\n",
       "      <td>0.471</td>\n",
       "      <td>0.529</td>\n",
       "      <td>0.000</td>\n",
       "      <td>-0.8402</td>\n",
       "    </tr>\n",
       "    <tr>\n",
       "      <th>76</th>\n",
       "      <td>jkhansenaz homicide suicide staged crime scene...</td>\n",
       "      <td>0.471</td>\n",
       "      <td>0.529</td>\n",
       "      <td>0.000</td>\n",
       "      <td>-0.8402</td>\n",
       "    </tr>\n",
       "    <tr>\n",
       "      <th>80</th>\n",
       "      <td>goal chaos disruption seems short sighted glob...</td>\n",
       "      <td>0.356</td>\n",
       "      <td>0.460</td>\n",
       "      <td>0.184</td>\n",
       "      <td>-0.4588</td>\n",
       "    </tr>\n",
       "    <tr>\n",
       "      <th>89</th>\n",
       "      <td>seanhannity insanity cherry picked thisthats s...</td>\n",
       "      <td>0.481</td>\n",
       "      <td>0.519</td>\n",
       "      <td>0.000</td>\n",
       "      <td>-0.7579</td>\n",
       "    </tr>\n",
       "    <tr>\n",
       "      <th>96</th>\n",
       "      <td>jkhansenaz homicide suicide staged crime scene...</td>\n",
       "      <td>0.471</td>\n",
       "      <td>0.529</td>\n",
       "      <td>0.000</td>\n",
       "      <td>-0.8402</td>\n",
       "    </tr>\n",
       "    <tr>\n",
       "      <th>99</th>\n",
       "      <td>jkhansenaz homicide suicide happened janycehan...</td>\n",
       "      <td>0.360</td>\n",
       "      <td>0.640</td>\n",
       "      <td>0.000</td>\n",
       "      <td>-0.6705</td>\n",
       "    </tr>\n",
       "    <tr>\n",
       "      <th>100</th>\n",
       "      <td>homicide suicide staged crime scene happened j...</td>\n",
       "      <td>0.533</td>\n",
       "      <td>0.467</td>\n",
       "      <td>0.000</td>\n",
       "      <td>-0.8402</td>\n",
       "    </tr>\n",
       "    <tr>\n",
       "      <th>114</th>\n",
       "      <td>kycutter jimjordan saracarterdc trump cult wei...</td>\n",
       "      <td>0.624</td>\n",
       "      <td>0.376</td>\n",
       "      <td>0.000</td>\n",
       "      <td>-0.8074</td>\n",
       "    </tr>\n",
       "    <tr>\n",
       "      <th>132</th>\n",
       "      <td>existential crisis witnessing dads near fatal ...</td>\n",
       "      <td>0.521</td>\n",
       "      <td>0.479</td>\n",
       "      <td>0.000</td>\n",
       "      <td>-0.8225</td>\n",
       "    </tr>\n",
       "    <tr>\n",
       "      <th>158</th>\n",
       "      <td>jkhansenaz homicide suicide happened janycehan...</td>\n",
       "      <td>0.360</td>\n",
       "      <td>0.640</td>\n",
       "      <td>0.000</td>\n",
       "      <td>-0.6705</td>\n",
       "    </tr>\n",
       "    <tr>\n",
       "      <th>162</th>\n",
       "      <td>jkhansenaz homicide suicide happened janycehan...</td>\n",
       "      <td>0.360</td>\n",
       "      <td>0.640</td>\n",
       "      <td>0.000</td>\n",
       "      <td>-0.6705</td>\n",
       "    </tr>\n",
       "    <tr>\n",
       "      <th>163</th>\n",
       "      <td>jkhansenaz homicide suicide happened janycehan...</td>\n",
       "      <td>0.360</td>\n",
       "      <td>0.640</td>\n",
       "      <td>0.000</td>\n",
       "      <td>-0.6705</td>\n",
       "    </tr>\n",
       "    <tr>\n",
       "      <th>164</th>\n",
       "      <td>jkhansenaz homicide suicide happened janycehan...</td>\n",
       "      <td>0.360</td>\n",
       "      <td>0.640</td>\n",
       "      <td>0.000</td>\n",
       "      <td>-0.6705</td>\n",
       "    </tr>\n",
       "    <tr>\n",
       "      <th>178</th>\n",
       "      <td>denverpost missing marines declared dead warpl...</td>\n",
       "      <td>0.565</td>\n",
       "      <td>0.435</td>\n",
       "      <td>0.000</td>\n",
       "      <td>-0.7579</td>\n",
       "    </tr>\n",
       "    <tr>\n",
       "      <th>179</th>\n",
       "      <td>missing marines declared dead warplanes japan</td>\n",
       "      <td>0.619</td>\n",
       "      <td>0.381</td>\n",
       "      <td>0.000</td>\n",
       "      <td>-0.7579</td>\n",
       "    </tr>\n",
       "    <tr>\n",
       "      <th>188</th>\n",
       "      <td>alert dpd officers scene wb hampden eudora ser...</td>\n",
       "      <td>0.381</td>\n",
       "      <td>0.497</td>\n",
       "      <td>0.122</td>\n",
       "      <td>-0.5719</td>\n",
       "    </tr>\n",
       "    <tr>\n",
       "      <th>195</th>\n",
       "      <td>dead collision farleft would call war criminals</td>\n",
       "      <td>0.828</td>\n",
       "      <td>0.172</td>\n",
       "      <td>0.000</td>\n",
       "      <td>-0.9371</td>\n",
       "    </tr>\n",
       "    <tr>\n",
       "      <th>199</th>\n",
       "      <td>freespeechtv trump panicking stocks job report...</td>\n",
       "      <td>0.583</td>\n",
       "      <td>0.417</td>\n",
       "      <td>0.000</td>\n",
       "      <td>-0.7906</td>\n",
       "    </tr>\n",
       "  </tbody>\n",
       "</table>\n",
       "</div>"
      ],
      "text/plain": [
       "                                                 tweet    neg    neu    pos  \\\n",
       "4           trump panicking stocks job report disaster  0.636  0.364  0.000   \n",
       "5    even better scene kyle says fucking hates ugh ...  0.388  0.433  0.179   \n",
       "73   jkhansenaz homicide suicide staged crime scene...  0.471  0.529  0.000   \n",
       "76   jkhansenaz homicide suicide staged crime scene...  0.471  0.529  0.000   \n",
       "80   goal chaos disruption seems short sighted glob...  0.356  0.460  0.184   \n",
       "89   seanhannity insanity cherry picked thisthats s...  0.481  0.519  0.000   \n",
       "96   jkhansenaz homicide suicide staged crime scene...  0.471  0.529  0.000   \n",
       "99   jkhansenaz homicide suicide happened janycehan...  0.360  0.640  0.000   \n",
       "100  homicide suicide staged crime scene happened j...  0.533  0.467  0.000   \n",
       "114  kycutter jimjordan saracarterdc trump cult wei...  0.624  0.376  0.000   \n",
       "132  existential crisis witnessing dads near fatal ...  0.521  0.479  0.000   \n",
       "158  jkhansenaz homicide suicide happened janycehan...  0.360  0.640  0.000   \n",
       "162  jkhansenaz homicide suicide happened janycehan...  0.360  0.640  0.000   \n",
       "163  jkhansenaz homicide suicide happened janycehan...  0.360  0.640  0.000   \n",
       "164  jkhansenaz homicide suicide happened janycehan...  0.360  0.640  0.000   \n",
       "178  denverpost missing marines declared dead warpl...  0.565  0.435  0.000   \n",
       "179      missing marines declared dead warplanes japan  0.619  0.381  0.000   \n",
       "188  alert dpd officers scene wb hampden eudora ser...  0.381  0.497  0.122   \n",
       "195    dead collision farleft would call war criminals  0.828  0.172  0.000   \n",
       "199  freespeechtv trump panicking stocks job report...  0.583  0.417  0.000   \n",
       "\n",
       "     compound  \n",
       "4     -0.7906  \n",
       "5     -0.5222  \n",
       "73    -0.8402  \n",
       "76    -0.8402  \n",
       "80    -0.4588  \n",
       "89    -0.7579  \n",
       "96    -0.8402  \n",
       "99    -0.6705  \n",
       "100   -0.8402  \n",
       "114   -0.8074  \n",
       "132   -0.8225  \n",
       "158   -0.6705  \n",
       "162   -0.6705  \n",
       "163   -0.6705  \n",
       "164   -0.6705  \n",
       "178   -0.7579  \n",
       "179   -0.7579  \n",
       "188   -0.5719  \n",
       "195   -0.9371  \n",
       "199   -0.7906  "
      ]
     },
     "execution_count": 51,
     "metadata": {},
     "output_type": "execute_result"
    }
   ],
   "source": [
    "#Look at the first 20 negative twets\n",
    "negative[:20]"
   ]
  },
  {
   "cell_type": "code",
   "execution_count": 52,
   "metadata": {},
   "outputs": [
    {
     "data": {
      "text/plain": [
       "(2297, ['trump', 'panicking', 'stocks', 'job', 'report'])"
      ]
     },
     "execution_count": 52,
     "metadata": {},
     "output_type": "execute_result"
    }
   ],
   "source": [
    "#list of negative words\n",
    "negative_words = flatten_word_list(negative['tweet'])\n",
    "len(negative_words), negative_words[:5] #How many total positive words? Print first five as an example"
   ]
  },
  {
   "cell_type": "code",
   "execution_count": 53,
   "metadata": {},
   "outputs": [],
   "source": [
    "#create frequency distribution of negative words\n",
    "neg_fd = FreqDist(negative_words)"
   ]
  },
  {
   "cell_type": "code",
   "execution_count": 54,
   "metadata": {},
   "outputs": [
    {
     "data": {
      "text/plain": [
       "[('homicide', 47),\n",
       " ('suicide', 47),\n",
       " ('janycehansen', 47),\n",
       " ('happened', 43),\n",
       " ('jkhansenaz', 42),\n",
       " ('night', 42),\n",
       " ('sept', 42),\n",
       " ('hekilledourjanny', 38),\n",
       " ('familys', 36),\n",
       " ('dead', 30)]"
      ]
     },
     "execution_count": 54,
     "metadata": {},
     "output_type": "execute_result"
    }
   ],
   "source": [
    "# ten most common words in negative tweets\n",
    "neg_fd.most_common(10)"
   ]
  },
  {
   "cell_type": "markdown",
   "metadata": {},
   "source": [
    "Conclusions:\n",
    "1. Tweets collected using \"crash OR  accident OR collision\" keywords varied depending on time of collection. During day time (output file tweets_denver_carcrashes_week8.txt) they mostly contained posts about traffic accidents within the defined area. In the evening (after evening rush hour, see output file tweets_denver_carcrashes_week8_2.txt), the tweets mostly contained the word \"crash\" but in relation to the market crash and political discussions. So, there is a need to better define search criteria.\n",
    "2. Due to the topic, the majority of the tweets had more pronounced negative sentiment.\n",
    "3. I excluded the words \"crash\" and \"accident\" from the cleaned texts, but it did not really have influence on extracting other meaninful words."
   ]
  }
 ],
 "metadata": {
  "kernelspec": {
   "display_name": "Python 3",
   "language": "python",
   "name": "python3"
  },
  "language_info": {
   "codemirror_mode": {
    "name": "ipython",
    "version": 3
   },
   "file_extension": ".py",
   "mimetype": "text/x-python",
   "name": "python",
   "nbconvert_exporter": "python",
   "pygments_lexer": "ipython3",
   "version": "3.7.1"
  }
 },
 "nbformat": 4,
 "nbformat_minor": 2
}
