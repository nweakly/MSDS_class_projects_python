{
 "cells": [
  {
   "cell_type": "markdown",
   "metadata": {},
   "source": [
    "# Text Clustering "
   ]
  },
  {
   "cell_type": "markdown",
   "metadata": {},
   "source": [
    "## Loading the data"
   ]
  },
  {
   "cell_type": "code",
   "execution_count": 1,
   "metadata": {},
   "outputs": [],
   "source": [
    "from glob import iglob #function returns an interator (data is not stored in memory at the same time)\n",
    "#of files in a directory using shell pattern matching"
   ]
  },
  {
   "cell_type": "code",
   "execution_count": 2,
   "metadata": {},
   "outputs": [
    {
     "data": {
      "text/plain": [
       "['Health-Tweets\\\\bbchealth.txt',\n",
       " 'Health-Tweets\\\\cbchealth.txt',\n",
       " 'Health-Tweets\\\\cnnhealth.txt',\n",
       " 'Health-Tweets\\\\everydayhealth.txt',\n",
       " 'Health-Tweets\\\\foxnewshealth.txt',\n",
       " 'Health-Tweets\\\\gdnhealthcare.txt',\n",
       " 'Health-Tweets\\\\goodhealth.txt',\n",
       " 'Health-Tweets\\\\KaiserHealthNews.txt',\n",
       " 'Health-Tweets\\\\latimeshealth.txt',\n",
       " 'Health-Tweets\\\\msnhealthnews.txt',\n",
       " 'Health-Tweets\\\\NBChealth.txt',\n",
       " 'Health-Tweets\\\\nprhealth.txt',\n",
       " 'Health-Tweets\\\\nytimeshealth.txt',\n",
       " 'Health-Tweets\\\\reuters_health.txt',\n",
       " 'Health-Tweets\\\\usnewshealth.txt',\n",
       " 'Health-Tweets\\\\wsjhealth.txt']"
      ]
     },
     "execution_count": 2,
     "metadata": {},
     "output_type": "execute_result"
    }
   ],
   "source": [
    "#List all text files from the Health-Tweets folder\n",
    "file_list = list(iglob('Health-Tweets/*.txt'))\n",
    "file_list"
   ]
  },
  {
   "cell_type": "code",
   "execution_count": 3,
   "metadata": {},
   "outputs": [
    {
     "name": "stdout",
     "output_type": "stream",
     "text": [
      "Health-Tweets\\bbchealth.txt\n",
      "Health-Tweets\\cbchealth.txt\n",
      "Health-Tweets\\cnnhealth.txt\n",
      "Health-Tweets\\everydayhealth.txt\n",
      "Health-Tweets\\foxnewshealth.txt\n",
      "Health-Tweets\\gdnhealthcare.txt\n",
      "Health-Tweets\\goodhealth.txt\n",
      "Health-Tweets\\KaiserHealthNews.txt\n",
      "Health-Tweets\\latimeshealth.txt\n",
      "Health-Tweets\\msnhealthnews.txt\n",
      "Health-Tweets\\NBChealth.txt\n",
      "Health-Tweets\\nprhealth.txt\n",
      "Health-Tweets\\nytimeshealth.txt\n",
      "Health-Tweets\\reuters_health.txt\n",
      "Health-Tweets\\usnewshealth.txt\n",
      "Health-Tweets\\wsjhealth.txt\n"
     ]
    }
   ],
   "source": [
    "# Find files using regular wildcards and iterate over them\n",
    "for file in iglob('Health-Tweets/*.txt'):\n",
    "    print(file)"
   ]
  },
  {
   "cell_type": "code",
   "execution_count": 4,
   "metadata": {},
   "outputs": [],
   "source": [
    "df = [] "
   ]
  },
  {
   "cell_type": "code",
   "execution_count": 5,
   "metadata": {},
   "outputs": [],
   "source": [
    "# pandas dataframe (built on NumPy) \n",
    "import pandas as pd"
   ]
  },
  {
   "cell_type": "code",
   "execution_count": 6,
   "metadata": {},
   "outputs": [],
   "source": [
    "def read_files(all_files):\n",
    "    \"\"\"Reads text files and combines them in one dataframe\"\"\"\n",
    "    for file_ in file_list:\n",
    "        df = pd.concat((pd.read_csv(f,                                                  \n",
    "                        sep='|',                                  # Use | as a separator \n",
    "                        header=None,                              # no header\n",
    "                        names=['id', 'datetime', 'tweet'],        # three fields   \n",
    "                        error_bad_lines=False,                    #ignore innapropriately formated lines\n",
    "                        encoding='latin-1')) for f in all_files)  # use latin - 1 encoding \n",
    "    return df\n"
   ]
  },
  {
   "cell_type": "code",
   "execution_count": 7,
   "metadata": {},
   "outputs": [
    {
     "data": {
      "text/plain": [
       "(27738, 3)"
      ]
     },
     "execution_count": 7,
     "metadata": {},
     "output_type": "execute_result"
    }
   ],
   "source": [
    "#Read the first 8 files (half of the data set) and output as one data frame\n",
    "df = read_files(file_list[:7])\n",
    "df.shape #check size of the data frame\n"
   ]
  },
  {
   "cell_type": "code",
   "execution_count": 8,
   "metadata": {
    "scrolled": true
   },
   "outputs": [
    {
     "data": {
      "text/html": [
       "<div>\n",
       "<style scoped>\n",
       "    .dataframe tbody tr th:only-of-type {\n",
       "        vertical-align: middle;\n",
       "    }\n",
       "\n",
       "    .dataframe tbody tr th {\n",
       "        vertical-align: top;\n",
       "    }\n",
       "\n",
       "    .dataframe thead th {\n",
       "        text-align: right;\n",
       "    }\n",
       "</style>\n",
       "<table border=\"1\" class=\"dataframe\">\n",
       "  <thead>\n",
       "    <tr style=\"text-align: right;\">\n",
       "      <th></th>\n",
       "      <th>id</th>\n",
       "      <th>datetime</th>\n",
       "      <th>tweet</th>\n",
       "    </tr>\n",
       "  </thead>\n",
       "  <tbody>\n",
       "    <tr>\n",
       "      <th>0</th>\n",
       "      <td>585978391360221184</td>\n",
       "      <td>Thu Apr 09 01:31:50 +0000 2015</td>\n",
       "      <td>Breast cancer risk test devised http://bbc.in/...</td>\n",
       "    </tr>\n",
       "    <tr>\n",
       "      <th>1</th>\n",
       "      <td>585947808772960257</td>\n",
       "      <td>Wed Apr 08 23:30:18 +0000 2015</td>\n",
       "      <td>GP workload harming care - BMA poll http://bbc...</td>\n",
       "    </tr>\n",
       "    <tr>\n",
       "      <th>2</th>\n",
       "      <td>585947807816650752</td>\n",
       "      <td>Wed Apr 08 23:30:18 +0000 2015</td>\n",
       "      <td>Short people's 'heart risk greater' http://bbc...</td>\n",
       "    </tr>\n",
       "    <tr>\n",
       "      <th>3</th>\n",
       "      <td>585866060991078401</td>\n",
       "      <td>Wed Apr 08 18:05:28 +0000 2015</td>\n",
       "      <td>New approach against HIV 'promising' http://bb...</td>\n",
       "    </tr>\n",
       "    <tr>\n",
       "      <th>4</th>\n",
       "      <td>585794106170839041</td>\n",
       "      <td>Wed Apr 08 13:19:33 +0000 2015</td>\n",
       "      <td>Coalition 'undermined NHS' - doctors http://bb...</td>\n",
       "    </tr>\n",
       "    <tr>\n",
       "      <th>5</th>\n",
       "      <td>585733482413891584</td>\n",
       "      <td>Wed Apr 08 09:18:39 +0000 2015</td>\n",
       "      <td>Review of case against NHS manager http://bbc....</td>\n",
       "    </tr>\n",
       "    <tr>\n",
       "      <th>6</th>\n",
       "      <td>585733481608646657</td>\n",
       "      <td>Wed Apr 08 09:18:39 +0000 2015</td>\n",
       "      <td>VIDEO: 'All day is empty, what am I going to d...</td>\n",
       "    </tr>\n",
       "  </tbody>\n",
       "</table>\n",
       "</div>"
      ],
      "text/plain": [
       "                   id                        datetime  \\\n",
       "0  585978391360221184  Thu Apr 09 01:31:50 +0000 2015   \n",
       "1  585947808772960257  Wed Apr 08 23:30:18 +0000 2015   \n",
       "2  585947807816650752  Wed Apr 08 23:30:18 +0000 2015   \n",
       "3  585866060991078401  Wed Apr 08 18:05:28 +0000 2015   \n",
       "4  585794106170839041  Wed Apr 08 13:19:33 +0000 2015   \n",
       "5  585733482413891584  Wed Apr 08 09:18:39 +0000 2015   \n",
       "6  585733481608646657  Wed Apr 08 09:18:39 +0000 2015   \n",
       "\n",
       "                                               tweet  \n",
       "0  Breast cancer risk test devised http://bbc.in/...  \n",
       "1  GP workload harming care - BMA poll http://bbc...  \n",
       "2  Short people's 'heart risk greater' http://bbc...  \n",
       "3  New approach against HIV 'promising' http://bb...  \n",
       "4  Coalition 'undermined NHS' - doctors http://bb...  \n",
       "5  Review of case against NHS manager http://bbc....  \n",
       "6  VIDEO: 'All day is empty, what am I going to d...  "
      ]
     },
     "execution_count": 8,
     "metadata": {},
     "output_type": "execute_result"
    }
   ],
   "source": [
    "#Look at the first 7 records in the dataframe\n",
    "df.head(7)"
   ]
  },
  {
   "cell_type": "code",
   "execution_count": 9,
   "metadata": {},
   "outputs": [
    {
     "data": {
      "text/html": [
       "<div>\n",
       "<style scoped>\n",
       "    .dataframe tbody tr th:only-of-type {\n",
       "        vertical-align: middle;\n",
       "    }\n",
       "\n",
       "    .dataframe tbody tr th {\n",
       "        vertical-align: top;\n",
       "    }\n",
       "\n",
       "    .dataframe thead th {\n",
       "        text-align: right;\n",
       "    }\n",
       "</style>\n",
       "<table border=\"1\" class=\"dataframe\">\n",
       "  <thead>\n",
       "    <tr style=\"text-align: right;\">\n",
       "      <th></th>\n",
       "      <th>id</th>\n",
       "      <th>datetime</th>\n",
       "      <th>tweet</th>\n",
       "    </tr>\n",
       "  </thead>\n",
       "  <tbody>\n",
       "    <tr>\n",
       "      <th>7770</th>\n",
       "      <td>80654575278895105</td>\n",
       "      <td>Tue Jun 14 15:15:23 +0000 2011</td>\n",
       "      <td>15 healthy-eating tips for people with #Crohns...</td>\n",
       "    </tr>\n",
       "    <tr>\n",
       "      <th>7771</th>\n",
       "      <td>80641899744067584</td>\n",
       "      <td>Tue Jun 14 14:25:01 +0000 2011</td>\n",
       "      <td>RT @Cooking_Light: Smart snack: Greek yogurt o...</td>\n",
       "    </tr>\n",
       "    <tr>\n",
       "      <th>7772</th>\n",
       "      <td>80629372100415488</td>\n",
       "      <td>Tue Jun 14 13:35:14 +0000 2011</td>\n",
       "      <td>Living With Pets May Protect Infants From Alle...</td>\n",
       "    </tr>\n",
       "    <tr>\n",
       "      <th>7773</th>\n",
       "      <td>80629263631527936</td>\n",
       "      <td>Tue Jun 14 13:34:49 +0000 2011</td>\n",
       "      <td>@SarahCampus We know the feeling! Here are som...</td>\n",
       "    </tr>\n",
       "    <tr>\n",
       "      <th>7774</th>\n",
       "      <td>80390283203842048</td>\n",
       "      <td>Mon Jun 13 21:45:11 +0000 2011</td>\n",
       "      <td>The Simple Secret to Great Sleep</td>\n",
       "    </tr>\n",
       "    <tr>\n",
       "      <th>7775</th>\n",
       "      <td>80371370009174016</td>\n",
       "      <td>Mon Jun 13 20:30:02 +0000 2011</td>\n",
       "      <td>Hot days call for refreshing drinks. Whip up t...</td>\n",
       "    </tr>\n",
       "    <tr>\n",
       "      <th>7776</th>\n",
       "      <td>80352600800763904</td>\n",
       "      <td>Mon Jun 13 19:15:27 +0000 2011</td>\n",
       "      <td>RT @MSNHealth: The Mediterranean? The Volumetr...</td>\n",
       "    </tr>\n",
       "  </tbody>\n",
       "</table>\n",
       "</div>"
      ],
      "text/plain": [
       "                     id                        datetime  \\\n",
       "7770  80654575278895105  Tue Jun 14 15:15:23 +0000 2011   \n",
       "7771  80641899744067584  Tue Jun 14 14:25:01 +0000 2011   \n",
       "7772  80629372100415488  Tue Jun 14 13:35:14 +0000 2011   \n",
       "7773  80629263631527936  Tue Jun 14 13:34:49 +0000 2011   \n",
       "7774  80390283203842048  Mon Jun 13 21:45:11 +0000 2011   \n",
       "7775  80371370009174016  Mon Jun 13 20:30:02 +0000 2011   \n",
       "7776  80352600800763904  Mon Jun 13 19:15:27 +0000 2011   \n",
       "\n",
       "                                                  tweet  \n",
       "7770  15 healthy-eating tips for people with #Crohns...  \n",
       "7771  RT @Cooking_Light: Smart snack: Greek yogurt o...  \n",
       "7772  Living With Pets May Protect Infants From Alle...  \n",
       "7773  @SarahCampus We know the feeling! Here are som...  \n",
       "7774                  The Simple Secret to Great Sleep   \n",
       "7775  Hot days call for refreshing drinks. Whip up t...  \n",
       "7776  RT @MSNHealth: The Mediterranean? The Volumetr...  "
      ]
     },
     "execution_count": 9,
     "metadata": {},
     "output_type": "execute_result"
    }
   ],
   "source": [
    "#Display the last 7 records in the dataframe\n",
    "df.tail(7)"
   ]
  },
  {
   "cell_type": "markdown",
   "metadata": {},
   "source": [
    "## Functions and preparations for data cleaning\n",
    "### Before cleaning the data, install spacy (using neural networks for natural language processing)\n",
    "by running: \n",
    "`conda install spacy` \n",
    "`python -m spacy download en_core_web_sm`\n"
   ]
  },
  {
   "cell_type": "code",
   "execution_count": 10,
   "metadata": {},
   "outputs": [],
   "source": [
    "import spacy   \n",
    "nlp = spacy.load('en_core_web_sm')\n",
    "import nltk"
   ]
  },
  {
   "cell_type": "code",
   "execution_count": 11,
   "metadata": {},
   "outputs": [],
   "source": [
    "#list of stop words from nltk\n",
    "stopwords = nltk.corpus.stopwords.words('english')"
   ]
  },
  {
   "cell_type": "code",
   "execution_count": 12,
   "metadata": {},
   "outputs": [],
   "source": [
    "#Add additional stop words and save as a set\n",
    "stopwords = set(stopwords + ['RT', 'health', 'healthcare', 'video', 'rt'])"
   ]
  },
  {
   "cell_type": "code",
   "execution_count": 13,
   "metadata": {},
   "outputs": [],
   "source": [
    "import string"
   ]
  },
  {
   "cell_type": "code",
   "execution_count": 14,
   "metadata": {
    "code_folding": []
   },
   "outputs": [],
   "source": [
    "def clean_text(docs):\n",
    "    \"\"\"Performs lemmatization and removes both stopwords and punctuation from panda series with text\n",
    "       docs: pandas series with text\n",
    "    \"\"\"\n",
    "    # remove punctuation and numbers\n",
    "    print('removing punctuation and digits...')\n",
    "    table = str.maketrans({key: None for key in string.punctuation + string.digits})\n",
    "   \n",
    "    clean_docs = [d.translate(table) for d in docs]\n",
    "    \n",
    "    print('spacy nlp...')\n",
    "    # nlp() function uses spacy's neural network to preform lemmatization on the collection provided by caller\n",
    "    nlp_docs = [nlp(d) for d in clean_docs]\n",
    "    \n",
    "    # keep the word if it's a pronoun, otherwise use the lemma\n",
    "    # otherwise spacy substitutes '-PRON-' for pronouns\n",
    "    print('getting lemmas...')\n",
    "    lemmatized_docs = [[w.lemma_ if w.lemma_ != '-PRON-'   # use lemma unless it is '-PRON-'\n",
    "                           else w.lower_                   # lower case all words\n",
    "                           for w in d]                     # get each word in the document\n",
    "                      for d in nlp_docs]                   # get each spacy lemmatized document \n",
    "    \n",
    "    # remove stopwords\n",
    "    print('removing stopwords...')\n",
    "    lemmatized_docs = [[lemma for lemma in doc if lemma not in stopwords] for doc in lemmatized_docs]\n",
    "    \n",
    "    # join tokens back into a string with each word separated by a space\n",
    "    clean_docs = [' '.join(l) for l in lemmatized_docs]\n",
    "     \n",
    "    # return a reference to the list of strings   \n",
    "    return clean_docs"
   ]
  },
  {
   "cell_type": "code",
   "execution_count": 15,
   "metadata": {},
   "outputs": [
    {
     "data": {
      "text/plain": [
       "Index(['id', 'datetime', 'tweet'], dtype='object')"
      ]
     },
     "execution_count": 15,
     "metadata": {},
     "output_type": "execute_result"
    }
   ],
   "source": [
    "df.columns #look up column names"
   ]
  },
  {
   "cell_type": "code",
   "execution_count": 16,
   "metadata": {},
   "outputs": [],
   "source": [
    "import numpy as np\n",
    "import re"
   ]
  },
  {
   "cell_type": "code",
   "execution_count": 17,
   "metadata": {},
   "outputs": [],
   "source": [
    "def clean_tweet(tweets):\n",
    "    \"\"\" deletes URLs and user names from tweets\"\"\"\n",
    "    cleaned_tweet = tweets.apply(lambda x: re.sub('http://\\S+|@\\S+', '', x))\n",
    "    return cleaned_tweet\n"
   ]
  },
  {
   "cell_type": "markdown",
   "metadata": {},
   "source": [
    "## Cleaning the data"
   ]
  },
  {
   "cell_type": "code",
   "execution_count": 18,
   "metadata": {},
   "outputs": [
    {
     "data": {
      "text/plain": [
       "0    Breast cancer risk test devised http://bbc.in/...\n",
       "1    GP workload harming care - BMA poll http://bbc...\n",
       "2    Short people's 'heart risk greater' http://bbc...\n",
       "3    New approach against HIV 'promising' http://bb...\n",
       "4    Coalition 'undermined NHS' - doctors http://bb...\n",
       "5    Review of case against NHS manager http://bbc....\n",
       "6    VIDEO: 'All day is empty, what am I going to d...\n",
       "7    VIDEO: 'Overhaul needed' for end-of-life care ...\n",
       "8    Care for dying 'needs overhaul' http://bbc.in/...\n",
       "9    VIDEO: NHS: Labour and Tory key policies http:...\n",
       "Name: tweet, dtype: object"
      ]
     },
     "execution_count": 18,
     "metadata": {},
     "output_type": "execute_result"
    }
   ],
   "source": [
    "#Look at the first 10 tweets before processing\n",
    "df['tweet'][:10] "
   ]
  },
  {
   "cell_type": "code",
   "execution_count": 19,
   "metadata": {},
   "outputs": [],
   "source": [
    "tweets_before = df['tweet'] #Retreive the tweets column"
   ]
  },
  {
   "cell_type": "code",
   "execution_count": 20,
   "metadata": {},
   "outputs": [
    {
     "data": {
      "text/plain": [
       "pandas.core.series.Series"
      ]
     },
     "execution_count": 20,
     "metadata": {},
     "output_type": "execute_result"
    }
   ],
   "source": [
    "type(tweets_before) #check the data type"
   ]
  },
  {
   "cell_type": "code",
   "execution_count": 21,
   "metadata": {},
   "outputs": [
    {
     "data": {
      "text/plain": [
       "0    Breast cancer risk test devised http://bbc.in/...\n",
       "1    GP workload harming care - BMA poll http://bbc...\n",
       "2    Short people's 'heart risk greater' http://bbc...\n",
       "3    New approach against HIV 'promising' http://bb...\n",
       "4    Coalition 'undermined NHS' - doctors http://bb...\n",
       "Name: tweet, dtype: object"
      ]
     },
     "execution_count": 21,
     "metadata": {},
     "output_type": "execute_result"
    }
   ],
   "source": [
    "tweets_before.head() #first five rows of uncleaned tweets"
   ]
  },
  {
   "cell_type": "code",
   "execution_count": 22,
   "metadata": {},
   "outputs": [],
   "source": [
    "tweets_clean= clean_tweet(tweets_before)    #call clean_tweet function  "
   ]
  },
  {
   "cell_type": "code",
   "execution_count": 23,
   "metadata": {},
   "outputs": [
    {
     "data": {
      "text/plain": [
       "27738"
      ]
     },
     "execution_count": 23,
     "metadata": {},
     "output_type": "execute_result"
    }
   ],
   "source": [
    "#length before cleaning\n",
    "len(tweets_before)"
   ]
  },
  {
   "cell_type": "code",
   "execution_count": 24,
   "metadata": {},
   "outputs": [
    {
     "data": {
      "text/plain": [
       "27738"
      ]
     },
     "execution_count": 24,
     "metadata": {},
     "output_type": "execute_result"
    }
   ],
   "source": [
    "#length after deleting URLs and usernames\n",
    "len(tweets_clean)"
   ]
  },
  {
   "cell_type": "code",
   "execution_count": 25,
   "metadata": {},
   "outputs": [
    {
     "data": {
      "text/plain": [
       "pandas.core.series.Series"
      ]
     },
     "execution_count": 25,
     "metadata": {},
     "output_type": "execute_result"
    }
   ],
   "source": [
    "type(tweets_clean)"
   ]
  },
  {
   "cell_type": "code",
   "execution_count": 26,
   "metadata": {},
   "outputs": [
    {
     "data": {
      "text/plain": [
       "0                     Breast cancer risk test devised \n",
       "1                 GP workload harming care - BMA poll \n",
       "2                 Short people's 'heart risk greater' \n",
       "3                New approach against HIV 'promising' \n",
       "4                Coalition 'undermined NHS' - doctors \n",
       "5                  Review of case against NHS manager \n",
       "6    VIDEO: 'All day is empty, what am I going to d...\n",
       "7       VIDEO: 'Overhaul needed' for end-of-life care \n",
       "8                     Care for dying 'needs overhaul' \n",
       "9            VIDEO: NHS: Labour and Tory key policies \n",
       "Name: tweet, dtype: object"
      ]
     },
     "execution_count": 26,
     "metadata": {},
     "output_type": "execute_result"
    }
   ],
   "source": [
    "#check the results\n",
    "tweets_clean.head(10) "
   ]
  },
  {
   "cell_type": "code",
   "execution_count": 27,
   "metadata": {},
   "outputs": [
    {
     "name": "stdout",
     "output_type": "stream",
     "text": [
      "removing punctuation and digits\n",
      "spacy nlp...\n",
      "getting lemmas...\n",
      "removing stopwords...\n"
     ]
    }
   ],
   "source": [
    "# Call the clean_text() function and pass the tweets column\n",
    "# This step might take a while to run .... coffee break....\n",
    "tweets_cleantext = clean_text(tweets_clean)"
   ]
  },
  {
   "cell_type": "code",
   "execution_count": 28,
   "metadata": {},
   "outputs": [
    {
     "data": {
      "text/plain": [
       "['less sex',\n",
       " 'five idea transform nhs',\n",
       " 'personal cancer vaccine exciting',\n",
       " 'child heart surgery death halve',\n",
       " 'miliband cameron fail nhs',\n",
       " 'unsafe food grow global threat',\n",
       " 'highlight',\n",
       " 'ambulance progress fast enough',\n",
       " 'childrenâ\\x80\\x99s hospital build sleep app',\n",
       " 'drug giant block eye treatment']"
      ]
     },
     "execution_count": 28,
     "metadata": {},
     "output_type": "execute_result"
    }
   ],
   "source": [
    "#check tweets 20 through 29\n",
    "tweets_cleantext[20:30]"
   ]
  },
  {
   "cell_type": "code",
   "execution_count": 29,
   "metadata": {},
   "outputs": [
    {
     "data": {
      "text/plain": [
       "list"
      ]
     },
     "execution_count": 29,
     "metadata": {},
     "output_type": "execute_result"
    }
   ],
   "source": [
    "#check output type\n",
    "type(tweets_cleantext)"
   ]
  },
  {
   "cell_type": "code",
   "execution_count": 30,
   "metadata": {},
   "outputs": [],
   "source": [
    "# Remove non-standard characters by encoding and decoding basic ASCII characters\n",
    "tweets_textready=[x.encode('ascii', errors='ignore').decode('ascii') for x in tweets_cleantext ]"
   ]
  },
  {
   "cell_type": "code",
   "execution_count": 31,
   "metadata": {},
   "outputs": [
    {
     "data": {
      "text/plain": [
       "['less sex',\n",
       " 'five idea transform nhs',\n",
       " 'personal cancer vaccine exciting',\n",
       " 'child heart surgery death halve',\n",
       " 'miliband cameron fail nhs',\n",
       " 'unsafe food grow global threat',\n",
       " 'highlight',\n",
       " 'ambulance progress fast enough',\n",
       " 'childrens hospital build sleep app',\n",
       " 'drug giant block eye treatment']"
      ]
     },
     "execution_count": 31,
     "metadata": {},
     "output_type": "execute_result"
    }
   ],
   "source": [
    "#Check results\n",
    "tweets_textready[20:30]"
   ]
  },
  {
   "cell_type": "markdown",
   "metadata": {},
   "source": [
    "## Vectorize the data"
   ]
  },
  {
   "cell_type": "code",
   "execution_count": 32,
   "metadata": {},
   "outputs": [],
   "source": [
    "from sklearn.feature_extraction.text import TfidfVectorizer"
   ]
  },
  {
   "cell_type": "code",
   "execution_count": 33,
   "metadata": {},
   "outputs": [
    {
     "data": {
      "text/plain": [
       "scipy.sparse.csr.csr_matrix"
      ]
     },
     "execution_count": 33,
     "metadata": {},
     "output_type": "execute_result"
    }
   ],
   "source": [
    "#create sparse matrix\n",
    "vectorizer = TfidfVectorizer(min_df=2) #do not include words with count less than 2\n",
    "features = vectorizer.fit_transform(tweets_textready)\n",
    "type(features)"
   ]
  },
  {
   "cell_type": "code",
   "execution_count": 34,
   "metadata": {},
   "outputs": [
    {
     "data": {
      "text/plain": [
       "(27738, 8632)"
      ]
     },
     "execution_count": 34,
     "metadata": {},
     "output_type": "execute_result"
    }
   ],
   "source": [
    "#dimentions of the sparse matrix\n",
    "features.shape"
   ]
  },
  {
   "cell_type": "code",
   "execution_count": 35,
   "metadata": {},
   "outputs": [],
   "source": [
    "# convert the sparce matix to a numpy dense matrix \n",
    "features = features.todense()"
   ]
  },
  {
   "cell_type": "markdown",
   "metadata": {},
   "source": [
    "\n"
   ]
  },
  {
   "cell_type": "markdown",
   "metadata": {},
   "source": [
    "## Cluster the data"
   ]
  },
  {
   "cell_type": "code",
   "execution_count": 36,
   "metadata": {},
   "outputs": [],
   "source": [
    "from sklearn.cluster import KMeans"
   ]
  },
  {
   "cell_type": "code",
   "execution_count": 37,
   "metadata": {},
   "outputs": [],
   "source": [
    "#build a model with 2 clusters\n",
    "model = KMeans(n_clusters=2, random_state=123, n_jobs=-1) #n_jobs=-1 use all the cores, random state=123\n",
    "#makes it reproducible"
   ]
  },
  {
   "cell_type": "code",
   "execution_count": 38,
   "metadata": {},
   "outputs": [
    {
     "data": {
      "text/plain": [
       "KMeans(algorithm='auto', copy_x=True, init='k-means++', max_iter=300,\n",
       "    n_clusters=2, n_init=10, n_jobs=-1, precompute_distances='auto',\n",
       "    random_state=123, tol=0.0001, verbose=0)"
      ]
     },
     "execution_count": 38,
     "metadata": {},
     "output_type": "execute_result"
    }
   ],
   "source": [
    "#Model fitting ... might take a while ...\n",
    "model.fit(features)"
   ]
  },
  {
   "cell_type": "code",
   "execution_count": 39,
   "metadata": {},
   "outputs": [
    {
     "name": "stdout",
     "output_type": "stream",
     "text": [
      "2\n",
      "3\n",
      "4\n",
      "5\n",
      "6\n",
      "7\n",
      "8\n",
      "9\n"
     ]
    }
   ],
   "source": [
    "# cluster the data into 2 to 9 clusters ( n_clusters - hyperparameter)\n",
    "# calculate wws - total within-cluster sum of squares to measure compactness (goodness of fit) of clusters\n",
    "# This step takes even longer to run\n",
    "wss = []\n",
    "for n in range(2, 10):\n",
    "    print(n)\n",
    "    model = KMeans(n_clusters=n, random_state=42, n_jobs=-1)\n",
    "    model.fit(features)\n",
    "    wss.append(-model.score(features))"
   ]
  },
  {
   "cell_type": "code",
   "execution_count": 40,
   "metadata": {},
   "outputs": [],
   "source": [
    "import matplotlib.pyplot as plt\n",
    "%matplotlib inline"
   ]
  },
  {
   "cell_type": "markdown",
   "metadata": {},
   "source": [
    "## Find the optimum number of clusters using the elbow method"
   ]
  },
  {
   "cell_type": "code",
   "execution_count": 41,
   "metadata": {},
   "outputs": [
    {
     "data": {
      "text/plain": [
       "<matplotlib.collections.PathCollection at 0x2c04d786630>"
      ]
     },
     "execution_count": 41,
     "metadata": {},
     "output_type": "execute_result"
    },
    {
     "data": {
      "image/png": "[encoded data removed]",
      "text/plain": [
       "<Figure size 432x288 with 1 Axes>"
      ]
     },
     "metadata": {
      "needs_background": "light"
     },
     "output_type": "display_data"
    }
   ],
   "source": [
    "plt.scatter(range(2, 10), wss) # plot wss values for 2-9 clusters"
   ]
  },
  {
   "cell_type": "code",
   "execution_count": 42,
   "metadata": {},
   "outputs": [
    {
     "data": {
      "text/plain": [
       "array([-94.72014014, -44.33652431, -87.80380574, -69.31324813,\n",
       "       -65.45245162, -13.98667859, -87.32801395])"
      ]
     },
     "execution_count": 42,
     "metadata": {},
     "output_type": "execute_result"
    }
   ],
   "source": [
    "# find relative changes in wss for 2-9 clusters \n",
    "np.diff(wss) #differencing"
   ]
  },
  {
   "cell_type": "code",
   "execution_count": 43,
   "metadata": {},
   "outputs": [
    {
     "data": {
      "text/plain": [
       "[27485.08319004147,\n",
       " 27390.36304990611,\n",
       " 27346.026525593792,\n",
       " 27258.222719857356,\n",
       " 27188.909471726878,\n",
       " 27123.457020106754,\n",
       " 27109.470341519827,\n",
       " 27022.142327571783]"
      ]
     },
     "execution_count": 43,
     "metadata": {},
     "output_type": "execute_result"
    }
   ],
   "source": [
    "wss #print absolute values for wss"
   ]
  },
  {
   "cell_type": "markdown",
   "metadata": {},
   "source": [
    "The results of applying the elbow method to find an optimum number of clusters for this dataset are inconclusive. There is no clear pivot point on the wss graph. An alternative method - the silhoutte method from skelen.metrics theat measures the quality of the clustering did not provide any consistent results either. So, for the purposes of this assignment I chose the number of clusters = 5."
   ]
  },
  {
   "cell_type": "markdown",
   "metadata": {},
   "source": [
    "## Fit the model and make predictions"
   ]
  },
  {
   "cell_type": "code",
   "execution_count": 44,
   "metadata": {},
   "outputs": [
    {
     "data": {
      "text/plain": [
       "KMeans(algorithm='auto', copy_x=True, init='k-means++', max_iter=300,\n",
       "    n_clusters=5, n_init=10, n_jobs=-1, precompute_distances='auto',\n",
       "    random_state=123, tol=0.0001, verbose=0)"
      ]
     },
     "execution_count": 44,
     "metadata": {},
     "output_type": "execute_result"
    }
   ],
   "source": [
    "#Fit the model with 5 clusters\n",
    "model_5 = KMeans(n_clusters=5, random_state=123, n_jobs=-1)\n",
    "#Model fitting ... \n",
    "model_5.fit(features)"
   ]
  },
  {
   "cell_type": "code",
   "execution_count": 45,
   "metadata": {},
   "outputs": [],
   "source": [
    "#Make predictions\n",
    "cluster_labels = model_5.predict(features)"
   ]
  },
  {
   "cell_type": "code",
   "execution_count": 46,
   "metadata": {},
   "outputs": [
    {
     "data": {
      "text/plain": [
       "array([1, 4, 1, ..., 4, 4, 4])"
      ]
     },
     "execution_count": 46,
     "metadata": {},
     "output_type": "execute_result"
    }
   ],
   "source": [
    "#sample output cluster labels\n",
    "cluster_labels"
   ]
  },
  {
   "cell_type": "code",
   "execution_count": 47,
   "metadata": {},
   "outputs": [
    {
     "data": {
      "text/plain": [
       "array([ 2285,  2287,  1075,  1669, 20422], dtype=int64)"
      ]
     },
     "execution_count": 47,
     "metadata": {},
     "output_type": "execute_result"
    }
   ],
   "source": [
    "# see resulting distribution of tweets by clusters\n",
    "np.bincount(cluster_labels)"
   ]
  },
  {
   "cell_type": "code",
   "execution_count": 48,
   "metadata": {},
   "outputs": [
    {
     "data": {
      "text/plain": [
       "array(['gp workload harm care   bma poll', 'new approach hiv promise',\n",
       "       'day empty go', ..., 'simple secret great sleep',\n",
       "       'hot day call refreshing drink whip family figurefriendly sip sweet way cool',\n",
       "       '  mediterranean volumetrics maybe dash us news best overall diet plan  '],\n",
       "      dtype='<U5614')"
      ]
     },
     "execution_count": 48,
     "metadata": {},
     "output_type": "execute_result"
    }
   ],
   "source": [
    "#extract tweets that are grouped in cluster #4 \n",
    "cluster4_tweets = np.array(tweets_textready)[cluster_labels == 4]\n",
    "cluster4_tweets"
   ]
  },
  {
   "cell_type": "code",
   "execution_count": 49,
   "metadata": {},
   "outputs": [],
   "source": [
    "#calculate word frequencies for the cluster #4\n",
    "wordcount = nltk.FreqDist(nltk.tokenize.word_tokenize(' '.join(cluster4_tweets)))"
   ]
  },
  {
   "cell_type": "code",
   "execution_count": 50,
   "metadata": {},
   "outputs": [
    {
     "data": {
      "text/plain": [
       "[('get', 1236),\n",
       " ('good', 881),\n",
       " ('say', 864),\n",
       " ('new', 840),\n",
       " ('make', 831),\n",
       " ('us', 747),\n",
       " ('healthtalk', 669),\n",
       " ('help', 667),\n",
       " ('day', 632),\n",
       " ('q', 623)]"
      ]
     },
     "execution_count": 50,
     "metadata": {},
     "output_type": "execute_result"
    }
   ],
   "source": [
    "# get the top 10 words from the cluster #4\n",
    "wordcount.most_common(10)"
   ]
  },
  {
   "cell_type": "code",
   "execution_count": 51,
   "metadata": {},
   "outputs": [
    {
     "data": {
      "text/plain": [
       "array(['coalition undermine nhs   doctor', 'review case nhs manager',\n",
       "       'nhs labour tory key policy', ...,\n",
       "       'nhs staff go strike monday   nhsstrike',\n",
       "       'lord darzis plan improve londoners   nhs',\n",
       "       'big challenge face department also nhs whole lack money'],\n",
       "      dtype='<U5614')"
      ]
     },
     "execution_count": 51,
     "metadata": {},
     "output_type": "execute_result"
    }
   ],
   "source": [
    "#Extract tweets for the cluster # 3\n",
    "cluster3_tweets = np.array(tweets_textready)[cluster_labels == 3]\n",
    "cluster3_tweets"
   ]
  },
  {
   "cell_type": "code",
   "execution_count": 52,
   "metadata": {},
   "outputs": [
    {
     "data": {
      "text/plain": [
       "[('nhs', 1747),\n",
       " ('new', 175),\n",
       " ('miss', 164),\n",
       " ('patient', 126),\n",
       " ('need', 123),\n",
       " ('today', 119),\n",
       " ('care', 113),\n",
       " ('say', 101),\n",
       " ('staff', 99),\n",
       " ('work', 88)]"
      ]
     },
     "execution_count": 52,
     "metadata": {},
     "output_type": "execute_result"
    }
   ],
   "source": [
    "#calculate word frequencies for the cluster #3\n",
    "wordcount3 = nltk.FreqDist(nltk.tokenize.word_tokenize(' '.join(cluster3_tweets)))\n",
    "# get the top 10 words from the cluster #3\n",
    "wordcount3.most_common(10)"
   ]
  },
  {
   "cell_type": "code",
   "execution_count": 53,
   "metadata": {},
   "outputs": [
    {
     "data": {
      "text/plain": [
       "array(['guinea declare ebola emergency', 'military worker free ebola',\n",
       "       'british medic declare free ebola', ...,\n",
       "       'ebola ice bucket challenge mosttalkedabout facebook topic for  ',\n",
       "       '  ebola fighters times person year    timepoy',\n",
       "       'ebola patient dr martin salia dies nebraska hospital   ebola'],\n",
       "      dtype='<U5614')"
      ]
     },
     "execution_count": 53,
     "metadata": {},
     "output_type": "execute_result"
    }
   ],
   "source": [
    "#Extract tweets for the cluster # 2\n",
    "cluster2_tweets = np.array(tweets_textready)[cluster_labels == 2]\n",
    "cluster2_tweets"
   ]
  },
  {
   "cell_type": "code",
   "execution_count": 54,
   "metadata": {},
   "outputs": [
    {
     "data": {
      "text/plain": [
       "[('ebola', 1088),\n",
       " ('outbreak', 141),\n",
       " ('say', 113),\n",
       " ('sierra', 94),\n",
       " ('leone', 92),\n",
       " ('patient', 92),\n",
       " ('vaccine', 90),\n",
       " ('case', 89),\n",
       " ('us', 80),\n",
       " ('liberia', 73)]"
      ]
     },
     "execution_count": 54,
     "metadata": {},
     "output_type": "execute_result"
    }
   ],
   "source": [
    "#calculate word frequencies for the cluster #2\n",
    "wordcount2 = nltk.FreqDist(nltk.tokenize.word_tokenize(' '.join(cluster2_tweets)))\n",
    "# get the top 10 words from the cluster #2\n",
    "wordcount2.most_common(10)"
   ]
  },
  {
   "cell_type": "code",
   "execution_count": 55,
   "metadata": {},
   "outputs": [
    {
     "data": {
      "text/plain": [
       "array(['breast cancer risk test devise', 'short people heart risk great',\n",
       "       'strenuous run may bad', ...,\n",
       "       '  sound like may enjoy good fatburning breakfast',\n",
       "       'toss turn may hurt marriage',\n",
       "       'live pets may protect infants allergies'], dtype='<U5614')"
      ]
     },
     "execution_count": 55,
     "metadata": {},
     "output_type": "execute_result"
    }
   ],
   "source": [
    "#Extract tweets for the cluster # 1\n",
    "cluster1_tweets = np.array(tweets_textready)[cluster_labels == 1]\n",
    "cluster1_tweets"
   ]
  },
  {
   "cell_type": "code",
   "execution_count": 56,
   "metadata": {},
   "outputs": [
    {
     "data": {
      "text/plain": [
       "[('may', 1109),\n",
       " ('cancer', 854),\n",
       " ('risk', 508),\n",
       " ('study', 212),\n",
       " ('help', 183),\n",
       " ('say', 148),\n",
       " ('new', 132),\n",
       " ('breast', 121),\n",
       " ('find', 108),\n",
       " ('heart', 105)]"
      ]
     },
     "execution_count": 56,
     "metadata": {},
     "output_type": "execute_result"
    }
   ],
   "source": [
    "#calculate word frequencies for the cluster #1\n",
    "wordcount1 = nltk.FreqDist(nltk.tokenize.word_tokenize(' '.join(cluster1_tweets)))\n",
    "# get the top 10 words from the cluster #1\n",
    "wordcount1.most_common(10)"
   ]
  },
  {
   "cell_type": "code",
   "execution_count": 57,
   "metadata": {},
   "outputs": [
    {
     "data": {
      "text/plain": [
       "array(['unsafe food grow global threat', 'make healthy high street',\n",
       "       'dr radhas guide healthy diet', ...,\n",
       "       '  eat healthy accord myplate guideline less   week',\n",
       "       'hurry hungry heres eat stay slim go courtesy  ',\n",
       "       'enjoy summer strawberri straight carton shortcake pie healthy recipe'],\n",
       "      dtype='<U5614')"
      ]
     },
     "execution_count": 57,
     "metadata": {},
     "output_type": "execute_result"
    }
   ],
   "source": [
    "#Extract tweets for the cluster # 0\n",
    "cluster0_tweets = np.array(tweets_textready)[cluster_labels == 0]\n",
    "cluster0_tweets"
   ]
  },
  {
   "cell_type": "code",
   "execution_count": 58,
   "metadata": {},
   "outputs": [
    {
     "data": {
      "text/plain": [
       "[('food', 1065),\n",
       " ('healthy', 927),\n",
       " ('eat', 689),\n",
       " ('q', 256),\n",
       " ('make', 187),\n",
       " ('good', 180),\n",
       " ('get', 174),\n",
       " ('amp', 166),\n",
       " ('healthtalk', 150),\n",
       " ('recipe', 128)]"
      ]
     },
     "execution_count": 58,
     "metadata": {},
     "output_type": "execute_result"
    }
   ],
   "source": [
    "#calculate word frequencies for the cluster #0\n",
    "wordcount0 = nltk.FreqDist(nltk.tokenize.word_tokenize(' '.join(cluster0_tweets)))\n",
    "# get the top 10 words from the cluster #0\n",
    "wordcount0.most_common(10)"
   ]
  },
  {
   "cell_type": "markdown",
   "metadata": {},
   "source": [
    "## Topic Modeling Using Latent Semantic Analysis"
   ]
  },
  {
   "cell_type": "code",
   "execution_count": 59,
   "metadata": {},
   "outputs": [],
   "source": [
    "from sklearn.decomposition import TruncatedSVD"
   ]
  },
  {
   "cell_type": "code",
   "execution_count": 60,
   "metadata": {},
   "outputs": [],
   "source": [
    "#SVD - vector representation of documents and terms\n",
    "#n_components parameter specifies the number of topics\n",
    "#since I originally used 8 files  => n_components=8\n",
    "svd_model = TruncatedSVD(n_components = 8, algorithm='randomized', n_iter = 100, random_state=123)\n"
   ]
  },
  {
   "cell_type": "code",
   "execution_count": 61,
   "metadata": {},
   "outputs": [
    {
     "data": {
      "text/plain": [
       "TruncatedSVD(algorithm='randomized', n_components=8, n_iter=100,\n",
       "       random_state=123, tol=0.0)"
      ]
     },
     "execution_count": 61,
     "metadata": {},
     "output_type": "execute_result"
    }
   ],
   "source": [
    "#fit the SVD model to the document-term matrix\n",
    "svd_model.fit(features)"
   ]
  },
  {
   "cell_type": "code",
   "execution_count": 62,
   "metadata": {},
   "outputs": [
    {
     "name": "stdout",
     "output_type": "stream",
     "text": [
      "\n",
      " Topic 0:\n",
      "nhs get good food new may make help healthy way \n",
      " Topic 1:\n",
      "nhs ebola patient new say cancer care miss doctor hospital \n",
      " Topic 2:\n",
      "nhs day recipe today get miss try care viewsfromthenhsfrontline work \n",
      " Topic 3:\n",
      "day ebola recipe get us try outbreak healthy vaccine leone \n",
      " Topic 4:\n",
      "ebola weight lose nhs food eat outbreak loss diet pound \n",
      " Topic 5:\n",
      "weight lose day recipe help may loss try diet way \n",
      " Topic 6:\n",
      "food eat good life nhs ebola bad day long recipe \n",
      " Topic 7:\n",
      "get good way bad workout exercise fitness move ebola via "
     ]
    }
   ],
   "source": [
    "#print the most important words for each topic\n",
    "terms=vectorizer.get_feature_names()\n",
    "for i, comp in enumerate(svd_model.components_):\n",
    "    terms_comp = zip(terms, comp)\n",
    "    sorted_terms = sorted(terms_comp, key=lambda x:x[1], reverse=True)[:10]\n",
    "    print('\\n',\"Topic \"+str(i)+\":\")\n",
    "    for t in sorted_terms:\n",
    "        print(t[0], end=' ')\n",
    "        \n",
    "        "
   ]
  },
  {
   "cell_type": "markdown",
   "metadata": {},
   "source": [
    "## Resources\n",
    "\n",
    "1. Latent Semantic Analysis Introductory Tutorial: [ww.analyticsvidhya.com/blog/2018/10/stepwise-guide-topic-modeling-latent-semantic-analysis/](https://www.analyticsvidhya.com/blog/2018/10/stepwise-guide-topic-modeling-latent-semantic-analysis/)\n",
    "\n",
    "2. KMeans Tutorial: [www.datascience.com/blog/k-means-clustering](https://www.datascience.com/blog/k-means-clustering)"
   ]
  },
  {
   "cell_type": "code",
   "execution_count": null,
   "metadata": {},
   "outputs": [],
   "source": []
  },
  {
   "cell_type": "code",
   "execution_count": null,
   "metadata": {},
   "outputs": [],
   "source": []
  }
 ],
 "metadata": {
  "kernelspec": {
   "display_name": "Python 3",
   "language": "python",
   "name": "python3"
  },
  "language_info": {
   "codemirror_mode": {
    "name": "ipython",
    "version": 3
   },
   "file_extension": ".py",
   "mimetype": "text/x-python",
   "name": "python",
   "nbconvert_exporter": "python",
   "pygments_lexer": "ipython3",
   "version": "3.7.1"
  }
 },
 "nbformat": 4,
 "nbformat_minor": 2
}
