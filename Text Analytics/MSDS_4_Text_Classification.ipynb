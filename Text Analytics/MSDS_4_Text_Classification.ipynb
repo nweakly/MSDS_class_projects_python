{
 "cells": [
  {
   "cell_type": "markdown",
   "metadata": {},
   "source": [
    "# Text Classification "
   ]
  },
  {
   "cell_type": "markdown",
   "metadata": {},
   "source": [
    "The following assignment is based on \n",
    "Working With Text Data. (n.d.). Retrieved from https://scikit-learn.org/stable/tutorial/text_analytics/working_with_text_data.html.   \n",
    "\n",
    "Visualizations using the YellowBrick project:\n",
    "Yellowbrick: Machine Learning Visualization. (n.d.). Retrieved from http://www.scikit-yb.org/en/latest/\n"
   ]
  },
  {
   "cell_type": "code",
   "execution_count": 1,
   "metadata": {},
   "outputs": [],
   "source": [
    "## Getting the data"
   ]
  },
  {
   "cell_type": "code",
   "execution_count": 2,
   "metadata": {},
   "outputs": [],
   "source": [
    "from sklearn.datasets import fetch_20newsgroups"
   ]
  },
  {
   "cell_type": "code",
   "execution_count": 3,
   "metadata": {},
   "outputs": [],
   "source": [
    "#import the datasets and do preliminary clean-up (remove heqaders, footers and quotes)\n",
    "\n",
    "#when retreiving only a subset of samples to quickly test the code and then retrain a model, use\n",
    "#shuffle=True, random_state = as parameters in fetch_20newsgroups() \n",
    "#to shuffle randomly before extracting a subset \n",
    "\n",
    "newsgroups_train = fetch_20newsgroups(subset='train', remove=('headers', 'footers', 'quotes'))\n",
    "newsgroups_test = fetch_20newsgroups(subset='test', remove=('headers', 'footers', 'quotes'))"
   ]
  },
  {
   "cell_type": "code",
   "execution_count": 4,
   "metadata": {},
   "outputs": [
    {
     "name": "stdout",
     "output_type": "stream",
     "text": [
      "<class 'sklearn.utils.Bunch'>\n"
     ]
    }
   ],
   "source": [
    "#dataset is loaded as a bunch object - a dictionary that supports attribute-style access\n",
    "print(type(newsgroups_train))"
   ]
  },
  {
   "cell_type": "code",
   "execution_count": 5,
   "metadata": {},
   "outputs": [
    {
     "data": {
      "text/plain": [
       "dict_keys(['data', 'filenames', 'target_names', 'target', 'DESCR'])"
      ]
     },
     "execution_count": 5,
     "metadata": {},
     "output_type": "execute_result"
    }
   ],
   "source": [
    "#Look up keys for the bunch dictionary using key() function\n",
    "#the keys are 'data', 'filenames', target_names', and 'DESCR' \n",
    "newsgroups_train.keys()"
   ]
  },
  {
   "cell_type": "code",
   "execution_count": 6,
   "metadata": {},
   "outputs": [
    {
     "data": {
      "text/plain": [
       "['alt.atheism',\n",
       " 'comp.graphics',\n",
       " 'comp.os.ms-windows.misc',\n",
       " 'comp.sys.ibm.pc.hardware',\n",
       " 'comp.sys.mac.hardware',\n",
       " 'comp.windows.x',\n",
       " 'misc.forsale',\n",
       " 'rec.autos',\n",
       " 'rec.motorcycles',\n",
       " 'rec.sport.baseball',\n",
       " 'rec.sport.hockey',\n",
       " 'sci.crypt',\n",
       " 'sci.electronics',\n",
       " 'sci.med',\n",
       " 'sci.space',\n",
       " 'soc.religion.christian',\n",
       " 'talk.politics.guns',\n",
       " 'talk.politics.mideast',\n",
       " 'talk.politics.misc',\n",
       " 'talk.religion.misc']"
      ]
     },
     "execution_count": 6,
     "metadata": {},
     "output_type": "execute_result"
    }
   ],
   "source": [
    "#target_names holds labels for the data set (20 classification groups)\n",
    "#The values for the labels are as follow:\n",
    "newsgroups_train.target_names"
   ]
  },
  {
   "cell_type": "code",
   "execution_count": 7,
   "metadata": {},
   "outputs": [
    {
     "data": {
      "text/plain": [
       "11314"
      ]
     },
     "execution_count": 7,
     "metadata": {},
     "output_type": "execute_result"
    }
   ],
   "source": [
    "# use get() to access the number of entries in the dataset\n",
    "#There are 11314 total articles for all 20 newsgroups\n",
    "#the articles/posts themselves are loaded into memory in the data attribute\n",
    "\n",
    "len(newsgroups_train.get('data'))\n"
   ]
  },
  {
   "cell_type": "code",
   "execution_count": 8,
   "metadata": {},
   "outputs": [
    {
     "name": "stdout",
     "output_type": "stream",
     "text": [
      "#>This happened about a year ago on the Washington DC Beltway.\n",
      "#>Snot nosed drunken kids decided it would be really cool to\n",
      "#>throw huge rocks down on cars from an overpass.  Four or five\n",
      "#>cars were hit.  There were several serious injuries, and sadly\n",
      "#>a small girl sitting in the front seat of one of them was struck \n",
      "#>in the head by one of the larger rocks.  I don't recall if she \n",
      "#>made it, but I think she was comatose for a month or so and \n",
      "#>doctors weren't holding out hope that she'd live.\n",
      "#>\n",
      "#>What the hell is happening to this great country of ours?  I\n",
      "#>can see boyhood pranks of peeing off of bridges and such, but\n",
      "#>20 pound rocks??!  Has our society really stooped this low??\n",
      "\n",
      "   Yes. Nobody is watching them.  If they get caught, there is no punishment\n",
      " at all.  In the old days such behaviour would be rewarded with a whipping\n",
      " with a good-sized belt, and then taken into some hospital to see first hand\n",
      " what kind of damage such accidents cause.   Of course this doesn't happen\n",
      " any more.  That whipping would probably save the kid's life by teaching\n",
      " him some respect for others.  A person with that little respect would\n",
      " inevitably wind up dead early anyway.\n",
      "\n",
      "   The problem is creeping gradualism.  If you put a frog into hot water,\n",
      " he just jumps out.  But if you put him into cold water and then ever-so-\n",
      " gradually heat it, the frog will cook.  This is what the entertainment\n",
      " industry and lack of religious, moral, and educational standards in our\n",
      " modern North American society have done to us over the years.  Now that\n",
      " we are about to be 'cooked', we may have woken up too late.\n",
      "\n",
      "#>\n",
      "#>Erik velapold\n",
      "# \n",
      "#Society, as we have known it, it coming apart at the seams! The basic reason\n",
      "#is that human life has been devalued to the point were killing someone is\n",
      "#\"No Big Deal\". Kid's see hundreds on murderous acts on TV, we can abort \n",
      "#children on demand, and kill the sick and old at will. So why be surprised\n",
      "#when some kids drop 20 lbs rocks and kill people. They don't care because the\n",
      "#message they hear is \"Life is Cheap\"!\n",
      "\n",
      "  And the education system and the Religious Leaders aren't doing much \n",
      " about it, either.  With both parents working in this society, where is\n",
      " the stabilizing influence at home?   Latchkey children are everywhere!\n",
      " And these latchkey kids can watch whatever rotten videos and listen to\n",
      " whatever violent hate-promoting \"music\" and videos they like because no\n",
      " one is home to stop it.\n",
      "\n",
      "  This day and age, when there is about 100 times more things to learn\n",
      " than when I went to school, our answer to this increased knowledge is\n",
      " shorter school hours and more leisure time!  I say keep the kids in\n",
      " school longer, feed them good food and teach them something, and when\n",
      " they get home, have a parent there to interact and monitor them.  There\n",
      " is a very old and now forgotten proverb: a child left on his own will\n",
      " bring a parent to grief.  Daycare systems are not the answer.  This is\n",
      " just shifting the parents' own responsibilities off on someone else to\n",
      " whom it's not a life-long committment, but rather just a job.\n",
      "\n",
      "\n",
      "# \n",
      "#AT\n",
      "\n",
      "  Followups should go to alt.parents-teens\n",
      "\n",
      "\n",
      " Fred W. Bach ,    Operations Group        |  Internet: music@erich.triumf.ca\n",
      " TRIUMF (TRI-University Meson Facility)    |  Voice:  604-222-1047 loc 327/278\n",
      " 4004 WESBROOK MALL, UBC CAMPUS            |  FAX:    604-222-1074\n",
      " University of British Columbia, Vancouver, B.C., CANADA   V6T 2A3\n"
     ]
    }
   ],
   "source": [
    "# Example of an article contaiing quoted material \n",
    "#lines starting with '#' represent quotes from other articles/posts \n",
    "\n",
    "article = newsgroups_train.get('data')[1144]\n",
    "print(article)"
   ]
  },
  {
   "cell_type": "markdown",
   "metadata": {},
   "source": [
    "### Preventing Data Leakage - Deleting Quotes"
   ]
  },
  {
   "cell_type": "code",
   "execution_count": 9,
   "metadata": {},
   "outputs": [
    {
     "name": "stdout",
     "output_type": "stream",
     "text": [
      "#>So, does anyone care to enlighten us whether DOS6.0 is worth upgrading to?\n",
      "#>How good is it's compression, and can it be turned on/off at will?\n",
      "#>Any other nice/nasty features?\n",
      "# \n",
      "#According to reports, if you don't have DOS yet, and don't have any\n",
      "#utilities (QEMM, Stacker, PCTools, Norton, ...) then DOS6 may be worth it. \n",
      "#For people who have DOS5, and some sort of utility, DOS6 doesn't offer\n",
      "#much. You'd never know it from the usual hype that marketing is able\n",
      "#to create, however. :-)\n",
      "\n",
      "\tIMHO, it seems to be worth the $40 to upgrade.  DoubleSpace seems a bit \n",
      "saner than Stacker 2.0 (which I've replaced).  MemMaker is nowhere near as \n",
      "aggressive as QEMM, but it doesn't hose my system like QEMM did (at least\n",
      "it hasn't yet).  Microsoft AntiVirus is just the latest version (or a \n",
      "reasonably recent one) of CPAV - mine was very aged, so this was quite welcome.\n",
      "\n",
      " \tMS-DOS 6.0 ain't the end all, be all of operating systems - but it's\n",
      "better than a sharp stick in the eye, unless you happen to be into that sort \n",
      "of thing.  :-)\n"
     ]
    }
   ],
   "source": [
    "#Example of a post from a training set quoting another post that might potentially\n",
    "#end up in the tesinting set\n",
    "\n",
    "print(newsgroups_train['data'][9514])"
   ]
  },
  {
   "cell_type": "markdown",
   "metadata": {},
   "source": [
    "Removing sources of leaks to eliminate possibility of accidentally training the model on testing data\n"
   ]
  },
  {
   "cell_type": "code",
   "execution_count": 10,
   "metadata": {},
   "outputs": [],
   "source": [
    "import re  # python's regular expression package\n",
    "import string #string operations\n",
    "from nltk.tokenize import word_tokenize #\n",
    "from nltk.corpus import stopwords\n",
    "from nltk.stem import WordNetLemmatizer\n",
    "import matplotlib.pyplot as plt"
   ]
  },
  {
   "cell_type": "code",
   "execution_count": 11,
   "metadata": {},
   "outputs": [],
   "source": [
    "\n",
    "def clean_article(article):\n",
    "    \"\"\"Cleans an article and prepares it for modeling\"\"\"\n",
    "    \n",
    "    #use re.sub() function to replace substrings\n",
    "    \n",
    "    # remove lines with 'From article' and all empty lines before and after \n",
    "    cleaned = re.sub(r'\\n*.*From article.*\\n*', '', article)\n",
    "    \n",
    "    # remove quoted lines that start with '#'\n",
    "    return re.sub(r'#(.*)\\n', '', cleaned)    "
   ]
  },
  {
   "cell_type": "code",
   "execution_count": 12,
   "metadata": {},
   "outputs": [
    {
     "name": "stdout",
     "output_type": "stream",
     "text": [
      "\n",
      "   Yes. Nobody is watching them.  If they get caught, there is no punishment\n",
      " at all.  In the old days such behaviour would be rewarded with a whipping\n",
      " with a good-sized belt, and then taken into some hospital to see first hand\n",
      " what kind of damage such accidents cause.   Of course this doesn't happen\n",
      " any more.  That whipping would probably save the kid's life by teaching\n",
      " him some respect for others.  A person with that little respect would\n",
      " inevitably wind up dead early anyway.\n",
      "\n",
      "   The problem is creeping gradualism.  If you put a frog into hot water,\n",
      " he just jumps out.  But if you put him into cold water and then ever-so-\n",
      " gradually heat it, the frog will cook.  This is what the entertainment\n",
      " industry and lack of religious, moral, and educational standards in our\n",
      " modern North American society have done to us over the years.  Now that\n",
      " we are about to be 'cooked', we may have woken up too late.\n",
      "\n",
      "\n",
      "  And the education system and the Religious Leaders aren't doing much \n",
      " about it, either.  With both parents working in this society, where is\n",
      " the stabilizing influence at home?   Latchkey children are everywhere!\n",
      " And these latchkey kids can watch whatever rotten videos and listen to\n",
      " whatever violent hate-promoting \"music\" and videos they like because no\n",
      " one is home to stop it.\n",
      "\n",
      "  This day and age, when there is about 100 times more things to learn\n",
      " than when I went to school, our answer to this increased knowledge is\n",
      " shorter school hours and more leisure time!  I say keep the kids in\n",
      " school longer, feed them good food and teach them something, and when\n",
      " they get home, have a parent there to interact and monitor them.  There\n",
      " is a very old and now forgotten proverb: a child left on his own will\n",
      " bring a parent to grief.  Daycare systems are not the answer.  This is\n",
      " just shifting the parents' own responsibilities off on someone else to\n",
      " whom it's not a life-long committment, but rather just a job.\n",
      "\n",
      "\n",
      "\n",
      "  Followups should go to alt.parents-teens\n",
      "\n",
      "\n",
      " Fred W. Bach ,    Operations Group        |  Internet: music@erich.triumf.ca\n",
      " TRIUMF (TRI-University Meson Facility)    |  Voice:  604-222-1047 loc 327/278\n",
      " 4004 WESBROOK MALL, UBC CAMPUS            |  FAX:    604-222-1074\n",
      " University of British Columbia, Vancouver, B.C., CANADA   V6T 2A3\n"
     ]
    }
   ],
   "source": [
    "# Preprocess an article to test the function\n",
    "print(clean_article(article))\n"
   ]
  },
  {
   "cell_type": "markdown",
   "metadata": {},
   "source": [
    "### Clean all articles in the dataset"
   ]
  },
  {
   "cell_type": "code",
   "execution_count": 13,
   "metadata": {},
   "outputs": [],
   "source": [
    "# clean data for training and testing\n",
    "cleaned_test = [clean_article(article) for article in newsgroups_test.get('data')]\n",
    "cleaned_train = [clean_article(article) for article in newsgroups_train.get('data')]"
   ]
  },
  {
   "cell_type": "code",
   "execution_count": 14,
   "metadata": {},
   "outputs": [],
   "source": [
    "# get the correct newsgroups (target variables) for training and testing in order to use supervised training algorithms\n",
    "y_test = newsgroups_test.target\n",
    "y_train = newsgroups_train.target"
   ]
  },
  {
   "cell_type": "code",
   "execution_count": 15,
   "metadata": {},
   "outputs": [
    {
     "data": {
      "text/plain": [
       "['alt.atheism',\n",
       " 'comp.graphics',\n",
       " 'comp.os.ms-windows.misc',\n",
       " 'comp.sys.ibm.pc.hardware',\n",
       " 'comp.sys.mac.hardware',\n",
       " 'comp.windows.x',\n",
       " 'misc.forsale',\n",
       " 'rec.autos',\n",
       " 'rec.motorcycles',\n",
       " 'rec.sport.baseball',\n",
       " 'rec.sport.hockey',\n",
       " 'sci.crypt',\n",
       " 'sci.electronics',\n",
       " 'sci.med',\n",
       " 'sci.space',\n",
       " 'soc.religion.christian',\n",
       " 'talk.politics.guns',\n",
       " 'talk.politics.mideast',\n",
       " 'talk.politics.misc',\n",
       " 'talk.religion.misc']"
      ]
     },
     "execution_count": 15,
     "metadata": {},
     "output_type": "execute_result"
    }
   ],
   "source": [
    "# get the labels / target names (display all existing categories)\n",
    "target_names = newsgroups_test.target_names\n",
    "target_names"
   ]
  },
  {
   "cell_type": "markdown",
   "metadata": {},
   "source": [
    "### Tokenizing text with sklearn\n",
    "\n",
    "Tokenize and count the number of occurances per word by document"
   ]
  },
  {
   "cell_type": "code",
   "execution_count": 16,
   "metadata": {},
   "outputs": [],
   "source": [
    "from sklearn.feature_extraction.text import CountVectorizer"
   ]
  },
  {
   "cell_type": "code",
   "execution_count": 17,
   "metadata": {},
   "outputs": [],
   "source": [
    "#CountVectorizer includes text preprocessing, tokenizing and filtering of stop words\n",
    "#CountVectorizer builds a disctionary and transforms documents to feature vectors \n",
    "count_vect = CountVectorizer()  "
   ]
  },
  {
   "cell_type": "code",
   "execution_count": 18,
   "metadata": {},
   "outputs": [],
   "source": [
    "#fit count_vect to clenead training data\n",
    "x_train_counts = count_vect.fit_transform(cleaned_train)"
   ]
  },
  {
   "cell_type": "code",
   "execution_count": 19,
   "metadata": {},
   "outputs": [
    {
     "data": {
      "text/plain": [
       "(11314, 94427)"
      ]
     },
     "execution_count": 19,
     "metadata": {},
     "output_type": "execute_result"
    }
   ],
   "source": [
    "#dimentions\n",
    "x_train_counts.shape"
   ]
  },
  {
   "cell_type": "code",
   "execution_count": 20,
   "metadata": {},
   "outputs": [
    {
     "data": {
      "image/png": "[encoded data removed]",
      "text/plain": [
       "<Figure size 576x396 with 1 Axes>"
      ]
     },
     "metadata": {},
     "output_type": "display_data"
    }
   ],
   "source": [
    "#EDA -  Visualizations using the Yellowbrick project\n",
    "#Token Frequency Distribution\n",
    "from yellowbrick.text import FreqDistVisualizer\n",
    "\n",
    "features = count_vect.get_feature_names()\n",
    "visualizer = FreqDistVisualizer(features=features) #instantiate FreqDistVisualizer\n",
    "visualizer.fit(x_train_counts) #fit the object with count vectorized documents\n",
    "visualizer.poof() #plot a bar chart of the top 50 most frequent terms\n"
   ]
  },
  {
   "cell_type": "code",
   "execution_count": 21,
   "metadata": {},
   "outputs": [
    {
     "data": {
      "image/png": "[encoded data removed]",
      "text/plain": [
       "<Figure size 576x396 with 1 Axes>"
      ]
     },
     "metadata": {},
     "output_type": "display_data"
    }
   ],
   "source": [
    "#NOTE: THIS STEP MIGHT TAKE A WHILE TO RUN...\n",
    "#so, I used just first 100 documents instead of the whole corpus for demonstration purposes\n",
    "\n",
    "#t-SNE, t-distributed stochastic neighbor embedding\n",
    "#decomposing high-dimentional document vectors into 2 dimentions and\n",
    "#cluster similar documants, visualize with scutter plot\n",
    "\n",
    "from yellowbrick.text import TSNEVisualizer\n",
    "from sklearn.feature_extraction.text import TfidfVectorizer\n",
    "\n",
    "# Create the visualizer and draw the vectors\n",
    "tsne = TSNEVisualizer() #initilize\n",
    "tsne.fit(x_train_counts[:100], y_train[:100]) #fit using first 100 posts from the training dataset\n",
    "#plot\n",
    "tsne.poof()\n"
   ]
  },
  {
   "cell_type": "code",
   "execution_count": 22,
   "metadata": {},
   "outputs": [
    {
     "data": {
      "image/png": "[encoded data removed]",
      "text/plain": [
       "<Figure size 576x396 with 1 Axes>"
      ]
     },
     "metadata": {},
     "output_type": "display_data"
    }
   ],
   "source": [
    "# Apply clustering and display cluster information instead of class names for each of the \n",
    "#first 100 documents in the training set\n",
    "\n",
    "from sklearn.cluster import KMeans\n",
    "\n",
    "#Cluster frist 100 posts from the training dataset using K-means clustering\n",
    "clusters = KMeans(n_clusters=5) \n",
    "clusters.fit(x_train_counts[:100])\n",
    "\n",
    "tsne = TSNEVisualizer() #initialize\n",
    "tsne.fit(x_train_counts[:100], [\"c{}\".format(c) for c in clusters.labels_]) #fit\n",
    "tsne.poof() #plot"
   ]
  },
  {
   "cell_type": "raw",
   "metadata": {},
   "source": [
    "## Frequencies\n",
    "\n",
    "tf -term frequencies - divide word counts for each document by the total number of words in the document to make all documents comparabale despite length diffrerences. \n",
    "use_idf=False parameter means that common (less informative) words are ranked the highest.  \n",
    "use_idf=True rare words receive higher rankings as they help discover latent topics."
   ]
  },
  {
   "cell_type": "code",
   "execution_count": 23,
   "metadata": {},
   "outputs": [],
   "source": [
    "from sklearn.feature_extraction.text import TfidfTransformer"
   ]
  },
  {
   "cell_type": "code",
   "execution_count": 24,
   "metadata": {},
   "outputs": [],
   "source": [
    "#common frequencey approach\n",
    "#use fit() method to fit estimator to the training data\n",
    "\n",
    "tf_transformer = TfidfTransformer(use_idf=False).fit(x_train_counts)"
   ]
  },
  {
   "cell_type": "code",
   "execution_count": 25,
   "metadata": {},
   "outputs": [],
   "source": [
    "#transform count matrix to a tf-idf (term frequency - inverse document frequency) form\n",
    "\n",
    "x_train_tf = tf_transformer.transform(x_train_counts)"
   ]
  },
  {
   "cell_type": "code",
   "execution_count": 26,
   "metadata": {},
   "outputs": [
    {
     "data": {
      "text/plain": [
       "(11314, 94427)"
      ]
     },
     "execution_count": 26,
     "metadata": {},
     "output_type": "execute_result"
    }
   ],
   "source": [
    "#matrix dimentions\n",
    "x_train_tf.shape"
   ]
  },
  {
   "cell_type": "markdown",
   "metadata": {},
   "source": [
    "### One step process for creating tf_idf"
   ]
  },
  {
   "cell_type": "code",
   "execution_count": 27,
   "metadata": {},
   "outputs": [],
   "source": [
    "#Combine the preparation (fit) and the altering (transform) into one step.  \n",
    "#since there is use_idf=False, is is True by default, therefore common words's weights are scaled down\n",
    "#to give rare (more informative words) more weight\n",
    "#number of times a word is used in the document is divided by the total number of words\n",
    "#words with unusually high tf_idf help find topics \n",
    "tfidf_transformer = TfidfTransformer().fit_transform(x_train_counts)"
   ]
  },
  {
   "cell_type": "code",
   "execution_count": 28,
   "metadata": {},
   "outputs": [
    {
     "data": {
      "text/plain": [
       "(11314, 94427)"
      ]
     },
     "execution_count": 28,
     "metadata": {},
     "output_type": "execute_result"
    }
   ],
   "source": [
    "#matrix dimentions\n",
    "tfidf_transformer.shape"
   ]
  },
  {
   "cell_type": "markdown",
   "metadata": {},
   "source": [
    "## Pipelines and Training a Naive Bayes Classifier\n",
    "\n",
    "Pipelines - running a sequence of transformers as a group.  Model (estimator that has a 'predict' method) has to be the last entry in the pipeline. Pipeline is consuming a CountVectorizer object and produces a model."
   ]
  },
  {
   "cell_type": "code",
   "execution_count": 29,
   "metadata": {},
   "outputs": [],
   "source": [
    "from sklearn.pipeline import Pipeline\n",
    "from sklearn.naive_bayes import MultinomialNB"
   ]
  },
  {
   "cell_type": "code",
   "execution_count": 30,
   "metadata": {},
   "outputs": [],
   "source": [
    "#building a pipeline\n",
    "text_clf = Pipeline([('vect', CountVectorizer()), ('tfidf', TfidfTransformer()), ('clf', MultinomialNB()),])"
   ]
  },
  {
   "cell_type": "code",
   "execution_count": 31,
   "metadata": {},
   "outputs": [
    {
     "data": {
      "text/plain": [
       "Pipeline(memory=None,\n",
       "     steps=[('vect', CountVectorizer(analyzer='word', binary=False, decode_error='strict',\n",
       "        dtype=<class 'numpy.int64'>, encoding='utf-8', input='content',\n",
       "        lowercase=True, max_df=1.0, max_features=None, min_df=1,\n",
       "        ngram_range=(1, 1), preprocessor=None, stop_words=None,\n",
       "        strip...inear_tf=False, use_idf=True)), ('clf', MultinomialNB(alpha=1.0, class_prior=None, fit_prior=True))])"
      ]
     },
     "execution_count": 31,
     "metadata": {},
     "output_type": "execute_result"
    }
   ],
   "source": [
    "# train the model through the whole pipeline using the training dataset\n",
    "text_clf.fit(cleaned_train, y_train)"
   ]
  },
  {
   "cell_type": "markdown",
   "metadata": {},
   "source": [
    "## Making predictions\n",
    "\n",
    "To make predictions we need pass the cleaned test data to the trained pipeline and call its predict method. "
   ]
  },
  {
   "cell_type": "code",
   "execution_count": 32,
   "metadata": {},
   "outputs": [],
   "source": [
    "import numpy as np"
   ]
  },
  {
   "cell_type": "code",
   "execution_count": 33,
   "metadata": {},
   "outputs": [],
   "source": [
    "#use the model to make predictions\n",
    "predicted = text_clf.predict(cleaned_test)"
   ]
  },
  {
   "cell_type": "code",
   "execution_count": 34,
   "metadata": {},
   "outputs": [
    {
     "data": {
      "text/plain": [
       "0.6042219861922464"
      ]
     },
     "execution_count": 34,
     "metadata": {},
     "output_type": "execute_result"
    }
   ],
   "source": [
    "#Calculate model accuracy\n",
    "np.mean(predicted == y_test)"
   ]
  },
  {
   "cell_type": "markdown",
   "metadata": {},
   "source": [
    "As the output above shows, the accuracy of the Naive Bayes classifier on the test data is about 60.42%."
   ]
  },
  {
   "cell_type": "code",
   "execution_count": 35,
   "metadata": {},
   "outputs": [],
   "source": [
    "## Use SVM classifier on the same data\n",
    "#just change a model in the pipline"
   ]
  },
  {
   "cell_type": "code",
   "execution_count": 36,
   "metadata": {},
   "outputs": [],
   "source": [
    "from sklearn.linear_model import SGDClassifier"
   ]
  },
  {
   "cell_type": "code",
   "execution_count": 37,
   "metadata": {},
   "outputs": [],
   "source": [
    "#building a pipeline\n",
    "text_clf2 = Pipeline([('vect', CountVectorizer()), ('tfidf', TfidfTransformer()), ('clf2', SGDClassifier(loss='hinge', penalty='l2', alpha=1e-3, random_state=42, max_iter=5, tol=None)),])"
   ]
  },
  {
   "cell_type": "code",
   "execution_count": 38,
   "metadata": {},
   "outputs": [
    {
     "data": {
      "text/plain": [
       "Pipeline(memory=None,\n",
       "     steps=[('vect', CountVectorizer(analyzer='word', binary=False, decode_error='strict',\n",
       "        dtype=<class 'numpy.int64'>, encoding='utf-8', input='content',\n",
       "        lowercase=True, max_df=1.0, max_features=None, min_df=1,\n",
       "        ngram_range=(1, 1), preprocessor=None, stop_words=None,\n",
       "        strip...dom_state=42, shuffle=True, tol=None,\n",
       "       validation_fraction=0.1, verbose=0, warm_start=False))])"
      ]
     },
     "execution_count": 38,
     "metadata": {},
     "output_type": "execute_result"
    }
   ],
   "source": [
    "#fitting the SVM  on training data\n",
    "text_clf2.fit(cleaned_train, y_train)"
   ]
  },
  {
   "cell_type": "code",
   "execution_count": 39,
   "metadata": {},
   "outputs": [],
   "source": [
    "#Using the SVM model to make predictions\n",
    "predicted2 = text_clf2.predict(cleaned_test)"
   ]
  },
  {
   "cell_type": "code",
   "execution_count": 40,
   "metadata": {},
   "outputs": [
    {
     "data": {
      "text/plain": [
       "0.682421667551779"
      ]
     },
     "execution_count": 40,
     "metadata": {},
     "output_type": "execute_result"
    }
   ],
   "source": [
    "#calculate SVM model accuracy\n",
    "np.mean(predicted2 == y_test)"
   ]
  },
  {
   "cell_type": "markdown",
   "metadata": {},
   "source": [
    "The SVM model shows 68.24 % overall accuracy, which is almost 8% higher than the baseline Nive Bayes classifier."
   ]
  },
  {
   "cell_type": "markdown",
   "metadata": {},
   "source": [
    "## Evaluating model performance"
   ]
  },
  {
   "cell_type": "code",
   "execution_count": 41,
   "metadata": {},
   "outputs": [],
   "source": [
    "from sklearn import metrics"
   ]
  },
  {
   "cell_type": "code",
   "execution_count": 42,
   "metadata": {},
   "outputs": [
    {
     "name": "stdout",
     "output_type": "stream",
     "text": [
      "                          precision    recall  f1-score   support\n",
      "\n",
      "             alt.atheism       0.82      0.07      0.13       319\n",
      "           comp.graphics       0.73      0.62      0.67       389\n",
      " comp.os.ms-windows.misc       0.70      0.51      0.59       394\n",
      "comp.sys.ibm.pc.hardware       0.55      0.74      0.63       392\n",
      "   comp.sys.mac.hardware       0.81      0.61      0.69       385\n",
      "          comp.windows.x       0.83      0.73      0.78       395\n",
      "            misc.forsale       0.87      0.69      0.77       390\n",
      "               rec.autos       0.83      0.68      0.75       396\n",
      "         rec.motorcycles       0.88      0.62      0.73       398\n",
      "      rec.sport.baseball       0.96      0.70      0.80       397\n",
      "        rec.sport.hockey       0.59      0.89      0.71       399\n",
      "               sci.crypt       0.46      0.80      0.59       396\n",
      "         sci.electronics       0.76      0.42      0.54       393\n",
      "                 sci.med       0.86      0.64      0.73       396\n",
      "               sci.space       0.84      0.63      0.72       394\n",
      "  soc.religion.christian       0.22      0.95      0.36       398\n",
      "      talk.politics.guns       0.59      0.59      0.59       364\n",
      "   talk.politics.mideast       0.85      0.70      0.77       376\n",
      "      talk.politics.misc       0.71      0.05      0.09       310\n",
      "      talk.religion.misc       0.50      0.00      0.01       251\n",
      "\n",
      "               micro avg       0.60      0.60      0.60      7532\n",
      "               macro avg       0.72      0.58      0.58      7532\n",
      "            weighted avg       0.72      0.60      0.60      7532\n",
      "\n"
     ]
    }
   ],
   "source": [
    "#Print detailed performance report for the Naive Bayes model\n",
    "classif_report1 = metrics.classification_report(y_test, predicted, target_names=target_names)\n",
    "print(classif_report1)    \n"
   ]
  },
  {
   "cell_type": "code",
   "execution_count": 44,
   "metadata": {},
   "outputs": [
    {
     "data": {
      "image/png": "[encoded data removed]",
      "text/plain": [
       "<Figure size 576x396 with 2 Axes>"
      ]
     },
     "metadata": {},
     "output_type": "display_data"
    }
   ],
   "source": [
    "#Visualizing performance report for the Naive Bayes model\n",
    "\n",
    "#adapted from by https://stackoverflow.com/questions/28200786/how-to-plot-scikit-learn-classification-report \n",
    "\n",
    "#Required libraries imported in previous steps\n",
    "#import matplotlib.pyplot as plt\n",
    "#import numpy as np\n",
    "\n",
    "def plot_classification_report(cr, title='Classification report ', with_avg_total=False, cmap=plt.cm.Blues):\n",
    "    \"\"\"received classification report, retreives measures for each class and plots \"\"\"\n",
    "    lines = cr.split('\\n')\n",
    "\n",
    "    classes = []\n",
    "    plotMat = []\n",
    "    for line in lines[2 : 22]:\n",
    "        #print(line)\n",
    "        t = line.split()\n",
    "        # print(t)\n",
    "        classes.append(t[0])\n",
    "        v = [float(x) for x in t[2:4]]\n",
    "        # print(v)\n",
    "        plotMat.append(v)\n",
    "\n",
    "    plt.imshow(plotMat, interpolation='nearest', cmap=cmap)\n",
    "    plt.title(title)\n",
    "    plt.colorbar()\n",
    "    x_tick_marks = np.arange(3)\n",
    "    y_tick_marks = np.arange(len(classes))\n",
    "    plt.xticks(x_tick_marks, ['precision', 'recall', 'f1-score'], rotation=45)\n",
    "    plt.yticks(y_tick_marks, classes)\n",
    "    plt.tight_layout()\n",
    "    plt.ylabel('Classes')\n",
    "    plt.xlabel('Measures')\n",
    "\n",
    "\n",
    "#plot \n",
    "plot_classification_report(classif_report1)\n"
   ]
  },
  {
   "cell_type": "code",
   "execution_count": 45,
   "metadata": {},
   "outputs": [
    {
     "data": {
      "text/plain": [
       "array([[ 23,   1,   0,   1,   1,   1,   0,   0,   2,   1,   9,   7,   1,\n",
       "          2,   2, 253,   4,  10,   0,   1],\n",
       "       [  0, 241,  16,  16,   7,  24,   4,   0,   2,   0,   5,  33,   0,\n",
       "          0,   7,  33,   0,   1,   0,   0],\n",
       "       [  0,  20, 201,  63,   5,  20,   1,   1,   2,   0,  15,  27,   0,\n",
       "          1,   5,  33,   0,   0,   0,   0],\n",
       "       [  0,   5,  21, 292,  19,   2,   5,   0,   0,   0,   8,  20,  12,\n",
       "          0,   0,   7,   1,   0,   0,   0],\n",
       "       [  0,   4,  12,  56, 234,   3,   4,   5,   1,   0,  14,  19,   6,\n",
       "          2,   2,  20,   3,   0,   0,   0],\n",
       "       [  0,  24,  18,  12,   0, 290,   4,   1,   0,   0,   5,  21,   2,\n",
       "          0,   1,  16,   1,   0,   0,   0],\n",
       "       [  0,   1,   3,  42,  13,   0, 270,  12,   2,   1,   9,   3,   5,\n",
       "          0,   2,  23,   4,   0,   0,   0],\n",
       "       [  0,   0,   2,   1,   0,   2,   9, 270,   7,   1,  25,  13,   8,\n",
       "          3,   4,  44,   2,   3,   2,   0],\n",
       "       [  0,   2,   0,   1,   0,   1,   5,  19, 247,   2,  14,  18,   7,\n",
       "          7,   3,  64,   5,   3,   0,   0],\n",
       "       [  0,   3,   1,   1,   0,   1,   3,   0,   2, 276,  34,  10,   0,\n",
       "          2,   0,  64,   0,   0,   0,   0],\n",
       "       [  0,   0,   0,   1,   0,   0,   0,   1,   0,   3, 357,   3,   0,\n",
       "          1,   1,  30,   2,   0,   0,   0],\n",
       "       [  0,   4,   4,   2,   1,   3,   1,   0,   2,   1,  16, 316,   2,\n",
       "          2,   2,  29,   9,   2,   0,   0],\n",
       "       [  0,   6,   6,  36,   9,   2,   5,   5,   7,   1,  15,  84, 165,\n",
       "          8,   6,  35,   2,   1,   0,   0],\n",
       "       [  0,   7,   0,   2,   0,   0,   0,   2,   0,   0,  16,   9,   2,\n",
       "        253,   1,  98,   3,   3,   0,   0],\n",
       "       [  0,   8,   1,   1,   0,   0,   0,   2,   1,   0,  18,  24,   5,\n",
       "          4, 247,  77,   3,   2,   1,   0],\n",
       "       [  0,   1,   1,   0,   0,   1,   0,   0,   0,   0,  15,   1,   0,\n",
       "          1,   1, 377,   0,   0,   0,   0],\n",
       "       [  0,   0,   1,   0,   0,   0,   1,   3,   1,   1,  12,  28,   0,\n",
       "          0,   3,  94, 214,   4,   2,   0],\n",
       "       [  1,   1,   0,   1,   0,   1,   0,   1,   5,   2,   7,   7,   0,\n",
       "          2,   0,  80,   5, 262,   1,   0],\n",
       "       [  1,   1,   0,   0,   0,   0,   0,   3,   0,   0,   8,  32,   1,\n",
       "          4,   5, 144,  88,   8,  15,   0],\n",
       "       [  3,   3,   1,   1,   0,   0,   0,   2,   0,   0,   8,   5,   0,\n",
       "          3,   2, 194,  19,   9,   0,   1]], dtype=int64)"
      ]
     },
     "execution_count": 45,
     "metadata": {},
     "output_type": "execute_result"
    }
   ],
   "source": [
    "#Confusion matrix for the Naive Bayes model\n",
    "array1 = metrics.confusion_matrix(y_test, predicted)\n",
    "array1"
   ]
  },
  {
   "cell_type": "markdown",
   "metadata": {},
   "source": [
    "Note: This confuusion matrix is not easily to interpret due to the large number of categories, but it can be used to claculate other performance indicators or for visualization purposes"
   ]
  },
  {
   "cell_type": "code",
   "execution_count": 46,
   "metadata": {},
   "outputs": [
    {
     "data": {
      "text/plain": [
       "<matplotlib.axes._subplots.AxesSubplot at 0x21691d3f390>"
      ]
     },
     "execution_count": 46,
     "metadata": {},
     "output_type": "execute_result"
    },
    {
     "data": {
      "image/png": "[encoded data removed]",
      "text/plain": [
       "<Figure size 1440x1080 with 2 Axes>"
      ]
     },
     "metadata": {},
     "output_type": "display_data"
    }
   ],
   "source": [
    "#Confusion matrix visualization\n",
    "#inspired by https://stackoverflow.com/questions/35572000/how-can-i-plot-a-confusion-matrix/42265865#42265865 \n",
    "\n",
    "import seaborn as sn\n",
    "import pandas as pd\n",
    "import matplotlib.pyplot as plt\n",
    "\n",
    "df_cm = pd.DataFrame(array1, range(20), range(20)) #data frame for the confusion mmatrix\n",
    "plt.figure(figsize = (20,15)) #plot size\n",
    "sn.heatmap(df_cm, annot=True) #fonts"
   ]
  },
  {
   "cell_type": "code",
   "execution_count": 47,
   "metadata": {},
   "outputs": [
    {
     "name": "stdout",
     "output_type": "stream",
     "text": [
      "                          precision    recall  f1-score   support\n",
      "\n",
      "             alt.atheism       0.56      0.41      0.48       319\n",
      "           comp.graphics       0.68      0.67      0.68       389\n",
      " comp.os.ms-windows.misc       0.67      0.60      0.63       394\n",
      "comp.sys.ibm.pc.hardware       0.65      0.65      0.65       392\n",
      "   comp.sys.mac.hardware       0.75      0.68      0.71       385\n",
      "          comp.windows.x       0.75      0.70      0.72       395\n",
      "            misc.forsale       0.70      0.83      0.76       390\n",
      "               rec.autos       0.80      0.69      0.74       396\n",
      "         rec.motorcycles       0.49      0.81      0.61       398\n",
      "      rec.sport.baseball       0.82      0.79      0.80       397\n",
      "        rec.sport.hockey       0.82      0.91      0.86       399\n",
      "               sci.crypt       0.71      0.74      0.73       396\n",
      "         sci.electronics       0.67      0.48      0.56       393\n",
      "                 sci.med       0.75      0.79      0.77       396\n",
      "               sci.space       0.70      0.77      0.73       394\n",
      "  soc.religion.christian       0.60      0.82      0.70       398\n",
      "      talk.politics.guns       0.56      0.70      0.62       364\n",
      "   talk.politics.mideast       0.76      0.82      0.79       376\n",
      "      talk.politics.misc       0.69      0.35      0.46       310\n",
      "      talk.religion.misc       0.48      0.13      0.20       251\n",
      "\n",
      "               micro avg       0.68      0.68      0.68      7532\n",
      "               macro avg       0.68      0.67      0.66      7532\n",
      "            weighted avg       0.69      0.68      0.67      7532\n",
      "\n"
     ]
    }
   ],
   "source": [
    "#Print detailed performance report for the SVM model\n",
    "print(metrics.classification_report(y_test, predicted2, target_names=target_names))"
   ]
  },
  {
   "cell_type": "markdown",
   "metadata": {},
   "source": [
    "Note: While overall, SVM showed bettwer reuslts, performance of these two classifiers varies depending on a category. "
   ]
  },
  {
   "cell_type": "code",
   "execution_count": 48,
   "metadata": {},
   "outputs": [
    {
     "data": {
      "text/plain": [
       "array([[132,   0,   2,   2,   0,   1,   5,   2,  19,   5,   4,   5,   3,\n",
       "         10,  18,  77,   7,  16,   0,  11],\n",
       "       [  5, 262,  20,  12,   7,  22,   7,   1,  12,   4,   0,  14,   3,\n",
       "          3,  12,   2,   1,   2,   0,   0],\n",
       "       [  2,  15, 237,  35,  16,  25,   3,   1,  17,   4,   2,   4,   1,\n",
       "          8,  11,   1,   4,   1,   5,   2],\n",
       "       [  1,  13,  26, 253,  22,   8,  18,   3,   8,   1,   2,  10,  21,\n",
       "          2,   2,   0,   0,   1,   0,   1],\n",
       "       [  0,   7,   6,  34, 262,   9,  15,   6,  22,   1,   3,   4,   8,\n",
       "          2,   4,   1,   1,   0,   0,   0],\n",
       "       [  0,  41,  33,   4,   7, 278,   9,   0,   8,   0,   0,   6,   3,\n",
       "          1,   4,   0,   0,   1,   0,   0],\n",
       "       [  0,   3,   0,  12,   9,   0, 323,   7,  14,   2,   2,   1,   4,\n",
       "          0,   5,   1,   6,   1,   0,   0],\n",
       "       [  5,   1,   3,   1,   1,   3,  14, 275,  44,   4,   2,   2,  16,\n",
       "          2,   7,   0,   9,   5,   2,   0],\n",
       "       [  2,   0,   0,   1,   1,   0,  12,  16, 321,   3,   1,   1,   5,\n",
       "          6,   8,   4,   6,   5,   4,   2],\n",
       "       [  4,   1,   0,   0,   1,   1,   7,   2,  20, 312,  34,   1,   1,\n",
       "          3,   4,   3,   0,   0,   3,   0],\n",
       "       [  1,   2,   0,   1,   1,   1,   0,   0,  11,   8, 362,   1,   1,\n",
       "          2,   2,   1,   3,   0,   0,   2],\n",
       "       [  2,   4,   4,   3,   4,   6,   3,   0,  20,   8,   1, 294,   5,\n",
       "          4,   7,   2,  16,   7,   5,   1],\n",
       "       [  1,  12,   9,  25,   9,   8,  23,  10,  30,   6,   5,  36, 188,\n",
       "         14,  12,   1,   2,   1,   0,   1],\n",
       "       [  3,   7,   1,   0,   0,   2,   8,   3,  19,   0,   7,   2,   6,\n",
       "        313,   4,   7,   5,   5,   3,   1],\n",
       "       [  4,   6,   2,   1,   1,   2,   5,   5,  22,   3,   2,   1,   9,\n",
       "          8, 302,   4,   4,   8,   5,   0],\n",
       "       [ 15,   3,   2,   1,   0,   1,   1,   0,  15,   3,   2,   1,   2,\n",
       "          7,   6, 326,   1,   4,   2,   6],\n",
       "       [  2,   2,   4,   3,   2,   1,   5,   2,  21,   4,   1,  14,   1,\n",
       "          6,   5,  12, 254,  10,  11,   4],\n",
       "       [ 13,   1,   2,   0,   0,   3,   1,   1,  12,   6,   1,   4,   1,\n",
       "          2,   1,   7,   9, 307,   5,   0],\n",
       "       [ 13,   0,   0,   1,   4,   0,   0,   4,  14,   4,   6,  10,   1,\n",
       "         10,  11,   7,  99,  15, 107,   4],\n",
       "       [ 30,   4,   2,   1,   1,   2,   4,   5,  12,   1,   4,   1,   1,\n",
       "         12,   6,  84,  30,  15,   4,  32]], dtype=int64)"
      ]
     },
     "execution_count": 48,
     "metadata": {},
     "output_type": "execute_result"
    }
   ],
   "source": [
    "#Confusion matrix for the SVM model\n",
    "metrics.confusion_matrix(y_test, predicted2)"
   ]
  },
  {
   "cell_type": "markdown",
   "metadata": {},
   "source": [
    "### Parameter tuning"
   ]
  },
  {
   "cell_type": "code",
   "execution_count": 49,
   "metadata": {},
   "outputs": [],
   "source": [
    "from sklearn.model_selection import GridSearchCV"
   ]
  },
  {
   "cell_type": "code",
   "execution_count": 50,
   "metadata": {},
   "outputs": [],
   "source": [
    "#Trying parameters for the SVM modle\n",
    "#either words or bigrams, with or without idf (inverse document frequencies), penalty parameter of 0.01 or 0.01\n",
    "\n",
    "parameters = {'vect__ngram_range': [(1,1), (1,2)], 'tfidf__use_idf': (True, False), 'clf2__alpha': (1e-2, 1e-3), }"
   ]
  },
  {
   "cell_type": "code",
   "execution_count": 51,
   "metadata": {},
   "outputs": [],
   "source": [
    "#Perform parameter search for the SVM model\n",
    "#use n_jobs=-1 parameter to detect and use all installed cores\n",
    "gs_clf2 = GridSearchCV(text_clf2, parameters, cv=5, iid=False, n_jobs=-1)\n"
   ]
  },
  {
   "cell_type": "code",
   "execution_count": 53,
   "metadata": {},
   "outputs": [],
   "source": [
    "#Perform the search on a smaller subset of the training data in order to decrease computation time\n",
    "gs_clf2 = gs_clf2.fit(cleaned_train[:500], y_train[:500])"
   ]
  },
  {
   "cell_type": "code",
   "execution_count": 54,
   "metadata": {},
   "outputs": [
    {
     "data": {
      "text/plain": [
       "array([12,  3,  1, 17, 11,  3,  3,  3, 12, 12,  5, 17,  4, 18,  6,  6, 10,\n",
       "        4, 12,  9,  0,  1, 17,  0,  0, 12,  6, 13,  6,  1, 12, 10, 12, 11,\n",
       "        9,  6,  6, 12,  8,  0, 10,  6,  8,  1,  8, 10,  8,  6,  0,  9])"
      ]
     },
     "execution_count": 54,
     "metadata": {},
     "output_type": "execute_result"
    }
   ],
   "source": [
    "#Use predict method of the GridSearchCV classifier\n",
    "y_train[100:150][gs_clf2.predict(cleaned_train[100:150])]"
   ]
  },
  {
   "cell_type": "code",
   "execution_count": 55,
   "metadata": {},
   "outputs": [
    {
     "data": {
      "text/plain": [
       "0.45259142586265"
      ]
     },
     "execution_count": 55,
     "metadata": {},
     "output_type": "execute_result"
    }
   ],
   "source": [
    "#Use best_score_ and best_params_ attribute to access the best mean score and the parameters correspoding to that score \n",
    "gs_clf2.best_score_"
   ]
  },
  {
   "cell_type": "code",
   "execution_count": 56,
   "metadata": {},
   "outputs": [
    {
     "name": "stdout",
     "output_type": "stream",
     "text": [
      "clf2__alpha: 0.001\n",
      "tfidf__use_idf: True\n",
      "vect__ngram_range: (1, 1)\n"
     ]
    }
   ],
   "source": [
    "#Display parameters\n",
    "for param_name in sorted(parameters.keys()):\n",
    "    print(\"%s: %r\" % (param_name, gs_clf2.best_params_[param_name]))\n",
    "\n",
    "#gs_clf2.cv_results_"
   ]
  }
 ],
 "metadata": {
  "kernelspec": {
   "display_name": "Python 3",
   "language": "python",
   "name": "python3"
  },
  "language_info": {
   "codemirror_mode": {
    "name": "ipython",
    "version": 3
   },
   "file_extension": ".py",
   "mimetype": "text/x-python",
   "name": "python",
   "nbconvert_exporter": "python",
   "pygments_lexer": "ipython3",
   "version": "3.7.1"
  }
 },
 "nbformat": 4,
 "nbformat_minor": 2
}
